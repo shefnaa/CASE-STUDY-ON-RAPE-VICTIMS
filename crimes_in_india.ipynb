{
  "nbformat": 4,
  "nbformat_minor": 0,
  "metadata": {
    "colab": {
      "name": "crimes in india.ipynb",
      "provenance": [],
      "collapsed_sections": [],
      "mount_file_id": "1W3a4XXr7sbRGVdE4FC6duO2skyH7y99C",
      "authorship_tag": "ABX9TyNBKrc21Mz23bNyF0c+8BTx",
      "include_colab_link": true
    },
    "kernelspec": {
      "name": "python3",
      "display_name": "Python 3"
    },
    "language_info": {
      "name": "python"
    }
  },
  "cells": [
    {
      "cell_type": "markdown",
      "metadata": {
        "id": "view-in-github",
        "colab_type": "text"
      },
      "source": [
        "<a href=\"https://colab.research.google.com/github/shefnaa/CASE-STUDY-ON-RAPE-VICTIMS/blob/main/crimes_in_india.ipynb\" target=\"_parent\"><img src=\"https://colab.research.google.com/assets/colab-badge.svg\" alt=\"Open In Colab\"/></a>"
      ]
    },
    {
      "cell_type": "markdown",
      "metadata": {
        "id": "XDpgS4GIWxcW"
      },
      "source": [
        "## **VICTIMS OF RAPE IN INDIA 2016 AND 2018**\n",
        "\n",
        "\n",
        "# Content\n",
        "The dataset contains state/UT wise data about various crimes in India. It includes:\n",
        "\n",
        "Victims of Rape\n",
        "\n",
        "It contains data about number of victims of rape - Child and Women which is further divided into age groups of below 18 or above 18.\n",
        "\n",
        "# Acknowledgements\n",
        "The data is collected from Open Goverment Data (OGD)\n",
        "\n",
        "I came across this dataset that contains data about crimes from 2001-2013. It motivated me to create this dataset"
      ]
    },
    {
      "cell_type": "code",
      "metadata": {
        "id": "YCblnv0uNDLa"
      },
      "source": [
        "#import packages\n",
        "import pandas as pd\n",
        "import numpy as np\n",
        "import matplotlib.pyplot as plt\n",
        "import seaborn as sns"
      ],
      "execution_count": null,
      "outputs": []
    },
    {
      "cell_type": "code",
      "metadata": {
        "colab": {
          "base_uri": "https://localhost:8080/"
        },
        "id": "49ShDo-3cUXA",
        "outputId": "bee33800-60d4-40a9-fc68-a39b02df87ab"
      },
      "source": [
        "!pip install matplotlib"
      ],
      "execution_count": null,
      "outputs": [
        {
          "output_type": "stream",
          "text": [
            "Requirement already satisfied: matplotlib in /usr/local/lib/python3.7/dist-packages (3.2.2)\n",
            "Requirement already satisfied: pyparsing!=2.0.4,!=2.1.2,!=2.1.6,>=2.0.1 in /usr/local/lib/python3.7/dist-packages (from matplotlib) (2.4.7)\n",
            "Requirement already satisfied: numpy>=1.11 in /usr/local/lib/python3.7/dist-packages (from matplotlib) (1.19.5)\n",
            "Requirement already satisfied: cycler>=0.10 in /usr/local/lib/python3.7/dist-packages (from matplotlib) (0.10.0)\n",
            "Requirement already satisfied: python-dateutil>=2.1 in /usr/local/lib/python3.7/dist-packages (from matplotlib) (2.8.1)\n",
            "Requirement already satisfied: kiwisolver>=1.0.1 in /usr/local/lib/python3.7/dist-packages (from matplotlib) (1.3.1)\n",
            "Requirement already satisfied: six in /usr/local/lib/python3.7/dist-packages (from cycler>=0.10->matplotlib) (1.15.0)\n"
          ],
          "name": "stdout"
        }
      ]
    },
    {
      "cell_type": "markdown",
      "metadata": {
        "id": "SMJE0jHfNpxn"
      },
      "source": [
        "### **2016 CASE REPORT**"
      ]
    },
    {
      "cell_type": "code",
      "metadata": {
        "id": "cl4eA0VlNRvQ"
      },
      "source": [
        "dat=pd.read_csv('/content/drive/MyDrive/project-dataset/2016 case study.csv')"
      ],
      "execution_count": null,
      "outputs": []
    },
    {
      "cell_type": "code",
      "metadata": {
        "id": "Pvvcd4h1ODXp",
        "colab": {
          "base_uri": "https://localhost:8080/",
          "height": 1000
        },
        "outputId": "5d6e4e8f-138f-46b8-aacd-1c2e3a624654"
      },
      "source": [
        "dat"
      ],
      "execution_count": null,
      "outputs": [
        {
          "output_type": "execute_result",
          "data": {
            "text/html": [
              "<div>\n",
              "<style scoped>\n",
              "    .dataframe tbody tr th:only-of-type {\n",
              "        vertical-align: middle;\n",
              "    }\n",
              "\n",
              "    .dataframe tbody tr th {\n",
              "        vertical-align: top;\n",
              "    }\n",
              "\n",
              "    .dataframe thead th {\n",
              "        text-align: right;\n",
              "    }\n",
              "</style>\n",
              "<table border=\"1\" class=\"dataframe\">\n",
              "  <thead>\n",
              "    <tr style=\"text-align: right;\">\n",
              "      <th></th>\n",
              "      <th>S. No</th>\n",
              "      <th>Category</th>\n",
              "      <th>State/UT</th>\n",
              "      <th>Cases Reported</th>\n",
              "      <th>Below 6 Years</th>\n",
              "      <th>6-12 Years</th>\n",
              "      <th>12-16 Years</th>\n",
              "      <th>16-18 Years</th>\n",
              "      <th>Total Child Victims</th>\n",
              "      <th>18-30 Years</th>\n",
              "      <th>30-45 Years</th>\n",
              "      <th>45-60 Years</th>\n",
              "      <th>60 Years &amp; Above</th>\n",
              "      <th>Total Women Victims</th>\n",
              "      <th>Total Victims</th>\n",
              "    </tr>\n",
              "  </thead>\n",
              "  <tbody>\n",
              "    <tr>\n",
              "      <th>0</th>\n",
              "      <td>1</td>\n",
              "      <td>State</td>\n",
              "      <td>Andhra Pradesh</td>\n",
              "      <td>988</td>\n",
              "      <td>14</td>\n",
              "      <td>46</td>\n",
              "      <td>185</td>\n",
              "      <td>296</td>\n",
              "      <td>541</td>\n",
              "      <td>333</td>\n",
              "      <td>121</td>\n",
              "      <td>6</td>\n",
              "      <td>4</td>\n",
              "      <td>464</td>\n",
              "      <td>1005</td>\n",
              "    </tr>\n",
              "    <tr>\n",
              "      <th>1</th>\n",
              "      <td>2</td>\n",
              "      <td>State</td>\n",
              "      <td>Arunachal Pradesh</td>\n",
              "      <td>59</td>\n",
              "      <td>1</td>\n",
              "      <td>9</td>\n",
              "      <td>19</td>\n",
              "      <td>13</td>\n",
              "      <td>42</td>\n",
              "      <td>24</td>\n",
              "      <td>5</td>\n",
              "      <td>0</td>\n",
              "      <td>0</td>\n",
              "      <td>29</td>\n",
              "      <td>71</td>\n",
              "    </tr>\n",
              "    <tr>\n",
              "      <th>2</th>\n",
              "      <td>3</td>\n",
              "      <td>State</td>\n",
              "      <td>Assam</td>\n",
              "      <td>1772</td>\n",
              "      <td>2</td>\n",
              "      <td>44</td>\n",
              "      <td>29</td>\n",
              "      <td>25</td>\n",
              "      <td>100</td>\n",
              "      <td>1291</td>\n",
              "      <td>582</td>\n",
              "      <td>75</td>\n",
              "      <td>0</td>\n",
              "      <td>1948</td>\n",
              "      <td>2048</td>\n",
              "    </tr>\n",
              "    <tr>\n",
              "      <th>3</th>\n",
              "      <td>4</td>\n",
              "      <td>State</td>\n",
              "      <td>Bihar</td>\n",
              "      <td>605</td>\n",
              "      <td>0</td>\n",
              "      <td>0</td>\n",
              "      <td>0</td>\n",
              "      <td>0</td>\n",
              "      <td>0</td>\n",
              "      <td>546</td>\n",
              "      <td>68</td>\n",
              "      <td>2</td>\n",
              "      <td>0</td>\n",
              "      <td>616</td>\n",
              "      <td>616</td>\n",
              "    </tr>\n",
              "    <tr>\n",
              "      <th>4</th>\n",
              "      <td>5</td>\n",
              "      <td>State</td>\n",
              "      <td>Chhattisgarh</td>\n",
              "      <td>1908</td>\n",
              "      <td>47</td>\n",
              "      <td>77</td>\n",
              "      <td>396</td>\n",
              "      <td>614</td>\n",
              "      <td>1134</td>\n",
              "      <td>525</td>\n",
              "      <td>245</td>\n",
              "      <td>14</td>\n",
              "      <td>8</td>\n",
              "      <td>792</td>\n",
              "      <td>1926</td>\n",
              "    </tr>\n",
              "    <tr>\n",
              "      <th>5</th>\n",
              "      <td>6</td>\n",
              "      <td>State</td>\n",
              "      <td>Goa</td>\n",
              "      <td>76</td>\n",
              "      <td>4</td>\n",
              "      <td>5</td>\n",
              "      <td>31</td>\n",
              "      <td>16</td>\n",
              "      <td>56</td>\n",
              "      <td>13</td>\n",
              "      <td>6</td>\n",
              "      <td>1</td>\n",
              "      <td>0</td>\n",
              "      <td>20</td>\n",
              "      <td>76</td>\n",
              "    </tr>\n",
              "    <tr>\n",
              "      <th>6</th>\n",
              "      <td>7</td>\n",
              "      <td>State</td>\n",
              "      <td>Gujarat</td>\n",
              "      <td>477</td>\n",
              "      <td>0</td>\n",
              "      <td>0</td>\n",
              "      <td>0</td>\n",
              "      <td>2</td>\n",
              "      <td>2</td>\n",
              "      <td>349</td>\n",
              "      <td>125</td>\n",
              "      <td>2</td>\n",
              "      <td>1</td>\n",
              "      <td>477</td>\n",
              "      <td>479</td>\n",
              "    </tr>\n",
              "    <tr>\n",
              "      <th>7</th>\n",
              "      <td>8</td>\n",
              "      <td>State</td>\n",
              "      <td>Haryana</td>\n",
              "      <td>1099</td>\n",
              "      <td>5</td>\n",
              "      <td>7</td>\n",
              "      <td>73</td>\n",
              "      <td>52</td>\n",
              "      <td>137</td>\n",
              "      <td>692</td>\n",
              "      <td>246</td>\n",
              "      <td>26</td>\n",
              "      <td>3</td>\n",
              "      <td>967</td>\n",
              "      <td>1104</td>\n",
              "    </tr>\n",
              "    <tr>\n",
              "      <th>8</th>\n",
              "      <td>9</td>\n",
              "      <td>State</td>\n",
              "      <td>Himachal Pradesh</td>\n",
              "      <td>249</td>\n",
              "      <td>7</td>\n",
              "      <td>18</td>\n",
              "      <td>52</td>\n",
              "      <td>68</td>\n",
              "      <td>145</td>\n",
              "      <td>78</td>\n",
              "      <td>23</td>\n",
              "      <td>5</td>\n",
              "      <td>0</td>\n",
              "      <td>106</td>\n",
              "      <td>251</td>\n",
              "    </tr>\n",
              "    <tr>\n",
              "      <th>9</th>\n",
              "      <td>10</td>\n",
              "      <td>State</td>\n",
              "      <td>Jammu &amp; Kashmir</td>\n",
              "      <td>296</td>\n",
              "      <td>1</td>\n",
              "      <td>5</td>\n",
              "      <td>21</td>\n",
              "      <td>16</td>\n",
              "      <td>43</td>\n",
              "      <td>163</td>\n",
              "      <td>88</td>\n",
              "      <td>4</td>\n",
              "      <td>0</td>\n",
              "      <td>255</td>\n",
              "      <td>298</td>\n",
              "    </tr>\n",
              "    <tr>\n",
              "      <th>10</th>\n",
              "      <td>11</td>\n",
              "      <td>State</td>\n",
              "      <td>Jharkhand</td>\n",
              "      <td>914</td>\n",
              "      <td>0</td>\n",
              "      <td>2</td>\n",
              "      <td>10</td>\n",
              "      <td>72</td>\n",
              "      <td>84</td>\n",
              "      <td>632</td>\n",
              "      <td>203</td>\n",
              "      <td>8</td>\n",
              "      <td>0</td>\n",
              "      <td>843</td>\n",
              "      <td>927</td>\n",
              "    </tr>\n",
              "    <tr>\n",
              "      <th>11</th>\n",
              "      <td>12</td>\n",
              "      <td>State</td>\n",
              "      <td>Karnataka</td>\n",
              "      <td>546</td>\n",
              "      <td>0</td>\n",
              "      <td>0</td>\n",
              "      <td>0</td>\n",
              "      <td>1</td>\n",
              "      <td>1</td>\n",
              "      <td>452</td>\n",
              "      <td>94</td>\n",
              "      <td>9</td>\n",
              "      <td>2</td>\n",
              "      <td>557</td>\n",
              "      <td>558</td>\n",
              "    </tr>\n",
              "    <tr>\n",
              "      <th>12</th>\n",
              "      <td>13</td>\n",
              "      <td>State</td>\n",
              "      <td>Kerala</td>\n",
              "      <td>2003</td>\n",
              "      <td>32</td>\n",
              "      <td>115</td>\n",
              "      <td>372</td>\n",
              "      <td>566</td>\n",
              "      <td>1085</td>\n",
              "      <td>595</td>\n",
              "      <td>288</td>\n",
              "      <td>42</td>\n",
              "      <td>25</td>\n",
              "      <td>950</td>\n",
              "      <td>2035</td>\n",
              "    </tr>\n",
              "    <tr>\n",
              "      <th>13</th>\n",
              "      <td>14</td>\n",
              "      <td>State</td>\n",
              "      <td>Madhya Pradesh</td>\n",
              "      <td>5562</td>\n",
              "      <td>50</td>\n",
              "      <td>207</td>\n",
              "      <td>1275</td>\n",
              "      <td>1550</td>\n",
              "      <td>3082</td>\n",
              "      <td>1651</td>\n",
              "      <td>716</td>\n",
              "      <td>104</td>\n",
              "      <td>46</td>\n",
              "      <td>2517</td>\n",
              "      <td>5599</td>\n",
              "    </tr>\n",
              "    <tr>\n",
              "      <th>14</th>\n",
              "      <td>15</td>\n",
              "      <td>State</td>\n",
              "      <td>Maharashtra</td>\n",
              "      <td>1933</td>\n",
              "      <td>1</td>\n",
              "      <td>2</td>\n",
              "      <td>3</td>\n",
              "      <td>6</td>\n",
              "      <td>12</td>\n",
              "      <td>1428</td>\n",
              "      <td>454</td>\n",
              "      <td>34</td>\n",
              "      <td>17</td>\n",
              "      <td>1933</td>\n",
              "      <td>1945</td>\n",
              "    </tr>\n",
              "    <tr>\n",
              "      <th>15</th>\n",
              "      <td>16</td>\n",
              "      <td>State</td>\n",
              "      <td>Manipur</td>\n",
              "      <td>40</td>\n",
              "      <td>0</td>\n",
              "      <td>0</td>\n",
              "      <td>0</td>\n",
              "      <td>2</td>\n",
              "      <td>2</td>\n",
              "      <td>24</td>\n",
              "      <td>15</td>\n",
              "      <td>0</td>\n",
              "      <td>0</td>\n",
              "      <td>39</td>\n",
              "      <td>41</td>\n",
              "    </tr>\n",
              "    <tr>\n",
              "      <th>16</th>\n",
              "      <td>17</td>\n",
              "      <td>State</td>\n",
              "      <td>Meghalaya</td>\n",
              "      <td>119</td>\n",
              "      <td>5</td>\n",
              "      <td>18</td>\n",
              "      <td>13</td>\n",
              "      <td>10</td>\n",
              "      <td>46</td>\n",
              "      <td>47</td>\n",
              "      <td>22</td>\n",
              "      <td>4</td>\n",
              "      <td>0</td>\n",
              "      <td>73</td>\n",
              "      <td>119</td>\n",
              "    </tr>\n",
              "    <tr>\n",
              "      <th>17</th>\n",
              "      <td>18</td>\n",
              "      <td>State</td>\n",
              "      <td>Mizoram</td>\n",
              "      <td>25</td>\n",
              "      <td>0</td>\n",
              "      <td>0</td>\n",
              "      <td>0</td>\n",
              "      <td>0</td>\n",
              "      <td>0</td>\n",
              "      <td>13</td>\n",
              "      <td>8</td>\n",
              "      <td>2</td>\n",
              "      <td>2</td>\n",
              "      <td>25</td>\n",
              "      <td>25</td>\n",
              "    </tr>\n",
              "    <tr>\n",
              "      <th>18</th>\n",
              "      <td>19</td>\n",
              "      <td>State</td>\n",
              "      <td>Nagaland</td>\n",
              "      <td>10</td>\n",
              "      <td>0</td>\n",
              "      <td>0</td>\n",
              "      <td>1</td>\n",
              "      <td>0</td>\n",
              "      <td>1</td>\n",
              "      <td>3</td>\n",
              "      <td>5</td>\n",
              "      <td>0</td>\n",
              "      <td>1</td>\n",
              "      <td>9</td>\n",
              "      <td>10</td>\n",
              "    </tr>\n",
              "    <tr>\n",
              "      <th>19</th>\n",
              "      <td>20</td>\n",
              "      <td>State</td>\n",
              "      <td>Odisha</td>\n",
              "      <td>2070</td>\n",
              "      <td>2</td>\n",
              "      <td>15</td>\n",
              "      <td>254</td>\n",
              "      <td>1026</td>\n",
              "      <td>1297</td>\n",
              "      <td>737</td>\n",
              "      <td>48</td>\n",
              "      <td>0</td>\n",
              "      <td>0</td>\n",
              "      <td>785</td>\n",
              "      <td>2082</td>\n",
              "    </tr>\n",
              "    <tr>\n",
              "      <th>20</th>\n",
              "      <td>21</td>\n",
              "      <td>State</td>\n",
              "      <td>Punjab</td>\n",
              "      <td>530</td>\n",
              "      <td>3</td>\n",
              "      <td>9</td>\n",
              "      <td>55</td>\n",
              "      <td>59</td>\n",
              "      <td>126</td>\n",
              "      <td>310</td>\n",
              "      <td>98</td>\n",
              "      <td>14</td>\n",
              "      <td>2</td>\n",
              "      <td>424</td>\n",
              "      <td>550</td>\n",
              "    </tr>\n",
              "    <tr>\n",
              "      <th>21</th>\n",
              "      <td>22</td>\n",
              "      <td>State</td>\n",
              "      <td>Rajasthan</td>\n",
              "      <td>3305</td>\n",
              "      <td>7</td>\n",
              "      <td>29</td>\n",
              "      <td>156</td>\n",
              "      <td>320</td>\n",
              "      <td>512</td>\n",
              "      <td>1988</td>\n",
              "      <td>744</td>\n",
              "      <td>71</td>\n",
              "      <td>4</td>\n",
              "      <td>2807</td>\n",
              "      <td>3319</td>\n",
              "    </tr>\n",
              "    <tr>\n",
              "      <th>22</th>\n",
              "      <td>23</td>\n",
              "      <td>State</td>\n",
              "      <td>Sikkim</td>\n",
              "      <td>17</td>\n",
              "      <td>0</td>\n",
              "      <td>0</td>\n",
              "      <td>0</td>\n",
              "      <td>0</td>\n",
              "      <td>0</td>\n",
              "      <td>12</td>\n",
              "      <td>4</td>\n",
              "      <td>1</td>\n",
              "      <td>0</td>\n",
              "      <td>17</td>\n",
              "      <td>17</td>\n",
              "    </tr>\n",
              "    <tr>\n",
              "      <th>23</th>\n",
              "      <td>24</td>\n",
              "      <td>State</td>\n",
              "      <td>Tamil Nadu</td>\n",
              "      <td>283</td>\n",
              "      <td>0</td>\n",
              "      <td>0</td>\n",
              "      <td>0</td>\n",
              "      <td>0</td>\n",
              "      <td>0</td>\n",
              "      <td>230</td>\n",
              "      <td>44</td>\n",
              "      <td>4</td>\n",
              "      <td>5</td>\n",
              "      <td>283</td>\n",
              "      <td>283</td>\n",
              "    </tr>\n",
              "    <tr>\n",
              "      <th>24</th>\n",
              "      <td>25</td>\n",
              "      <td>State</td>\n",
              "      <td>Telangana</td>\n",
              "      <td>552</td>\n",
              "      <td>0</td>\n",
              "      <td>0</td>\n",
              "      <td>0</td>\n",
              "      <td>0</td>\n",
              "      <td>0</td>\n",
              "      <td>502</td>\n",
              "      <td>178</td>\n",
              "      <td>14</td>\n",
              "      <td>5</td>\n",
              "      <td>699</td>\n",
              "      <td>699</td>\n",
              "    </tr>\n",
              "    <tr>\n",
              "      <th>25</th>\n",
              "      <td>26</td>\n",
              "      <td>State</td>\n",
              "      <td>Tripura</td>\n",
              "      <td>95</td>\n",
              "      <td>1</td>\n",
              "      <td>0</td>\n",
              "      <td>1</td>\n",
              "      <td>3</td>\n",
              "      <td>5</td>\n",
              "      <td>55</td>\n",
              "      <td>35</td>\n",
              "      <td>5</td>\n",
              "      <td>1</td>\n",
              "      <td>96</td>\n",
              "      <td>101</td>\n",
              "    </tr>\n",
              "    <tr>\n",
              "      <th>26</th>\n",
              "      <td>27</td>\n",
              "      <td>State</td>\n",
              "      <td>Uttar Pradesh</td>\n",
              "      <td>4246</td>\n",
              "      <td>105</td>\n",
              "      <td>190</td>\n",
              "      <td>713</td>\n",
              "      <td>552</td>\n",
              "      <td>1560</td>\n",
              "      <td>2313</td>\n",
              "      <td>779</td>\n",
              "      <td>9</td>\n",
              "      <td>8</td>\n",
              "      <td>3109</td>\n",
              "      <td>4669</td>\n",
              "    </tr>\n",
              "    <tr>\n",
              "      <th>27</th>\n",
              "      <td>28</td>\n",
              "      <td>State</td>\n",
              "      <td>Uttarakhand</td>\n",
              "      <td>374</td>\n",
              "      <td>8</td>\n",
              "      <td>12</td>\n",
              "      <td>71</td>\n",
              "      <td>69</td>\n",
              "      <td>160</td>\n",
              "      <td>189</td>\n",
              "      <td>41</td>\n",
              "      <td>6</td>\n",
              "      <td>1</td>\n",
              "      <td>237</td>\n",
              "      <td>397</td>\n",
              "    </tr>\n",
              "    <tr>\n",
              "      <th>28</th>\n",
              "      <td>29</td>\n",
              "      <td>State</td>\n",
              "      <td>West Bengal</td>\n",
              "      <td>1084</td>\n",
              "      <td>0</td>\n",
              "      <td>0</td>\n",
              "      <td>0</td>\n",
              "      <td>0</td>\n",
              "      <td>0</td>\n",
              "      <td>799</td>\n",
              "      <td>263</td>\n",
              "      <td>21</td>\n",
              "      <td>1</td>\n",
              "      <td>1084</td>\n",
              "      <td>1084</td>\n",
              "    </tr>\n",
              "    <tr>\n",
              "      <th>29</th>\n",
              "      <td>30</td>\n",
              "      <td>Union Territory</td>\n",
              "      <td>A &amp; N Islands</td>\n",
              "      <td>13</td>\n",
              "      <td>0</td>\n",
              "      <td>0</td>\n",
              "      <td>0</td>\n",
              "      <td>1</td>\n",
              "      <td>1</td>\n",
              "      <td>8</td>\n",
              "      <td>4</td>\n",
              "      <td>0</td>\n",
              "      <td>0</td>\n",
              "      <td>12</td>\n",
              "      <td>13</td>\n",
              "    </tr>\n",
              "    <tr>\n",
              "      <th>30</th>\n",
              "      <td>31</td>\n",
              "      <td>Union Territory</td>\n",
              "      <td>Chandigarh</td>\n",
              "      <td>65</td>\n",
              "      <td>3</td>\n",
              "      <td>6</td>\n",
              "      <td>29</td>\n",
              "      <td>7</td>\n",
              "      <td>45</td>\n",
              "      <td>16</td>\n",
              "      <td>4</td>\n",
              "      <td>0</td>\n",
              "      <td>0</td>\n",
              "      <td>20</td>\n",
              "      <td>65</td>\n",
              "    </tr>\n",
              "    <tr>\n",
              "      <th>31</th>\n",
              "      <td>32</td>\n",
              "      <td>Union Territory</td>\n",
              "      <td>D&amp;N Haveli</td>\n",
              "      <td>1</td>\n",
              "      <td>0</td>\n",
              "      <td>0</td>\n",
              "      <td>0</td>\n",
              "      <td>0</td>\n",
              "      <td>0</td>\n",
              "      <td>1</td>\n",
              "      <td>0</td>\n",
              "      <td>0</td>\n",
              "      <td>0</td>\n",
              "      <td>1</td>\n",
              "      <td>1</td>\n",
              "    </tr>\n",
              "    <tr>\n",
              "      <th>32</th>\n",
              "      <td>33</td>\n",
              "      <td>Union Territory</td>\n",
              "      <td>Daman &amp; Diu</td>\n",
              "      <td>7</td>\n",
              "      <td>0</td>\n",
              "      <td>2</td>\n",
              "      <td>0</td>\n",
              "      <td>0</td>\n",
              "      <td>2</td>\n",
              "      <td>3</td>\n",
              "      <td>2</td>\n",
              "      <td>0</td>\n",
              "      <td>0</td>\n",
              "      <td>5</td>\n",
              "      <td>7</td>\n",
              "    </tr>\n",
              "    <tr>\n",
              "      <th>33</th>\n",
              "      <td>34</td>\n",
              "      <td>Union Territory</td>\n",
              "      <td>Delhi UT</td>\n",
              "      <td>1229</td>\n",
              "      <td>0</td>\n",
              "      <td>0</td>\n",
              "      <td>0</td>\n",
              "      <td>0</td>\n",
              "      <td>0</td>\n",
              "      <td>871</td>\n",
              "      <td>337</td>\n",
              "      <td>20</td>\n",
              "      <td>3</td>\n",
              "      <td>1231</td>\n",
              "      <td>1231</td>\n",
              "    </tr>\n",
              "    <tr>\n",
              "      <th>34</th>\n",
              "      <td>35</td>\n",
              "      <td>Union Territory</td>\n",
              "      <td>Lakshadweep</td>\n",
              "      <td>0</td>\n",
              "      <td>0</td>\n",
              "      <td>0</td>\n",
              "      <td>0</td>\n",
              "      <td>0</td>\n",
              "      <td>0</td>\n",
              "      <td>0</td>\n",
              "      <td>0</td>\n",
              "      <td>0</td>\n",
              "      <td>0</td>\n",
              "      <td>0</td>\n",
              "      <td>0</td>\n",
              "    </tr>\n",
              "    <tr>\n",
              "      <th>35</th>\n",
              "      <td>36</td>\n",
              "      <td>Union Territory</td>\n",
              "      <td>Puducherry</td>\n",
              "      <td>7</td>\n",
              "      <td>0</td>\n",
              "      <td>0</td>\n",
              "      <td>0</td>\n",
              "      <td>0</td>\n",
              "      <td>0</td>\n",
              "      <td>7</td>\n",
              "      <td>0</td>\n",
              "      <td>0</td>\n",
              "      <td>0</td>\n",
              "      <td>7</td>\n",
              "      <td>7</td>\n",
              "    </tr>\n",
              "  </tbody>\n",
              "</table>\n",
              "</div>"
            ],
            "text/plain": [
              "    S. No         Category  ... Total Women Victims  Total Victims\n",
              "0       1            State  ...                 464           1005\n",
              "1       2            State  ...                  29             71\n",
              "2       3            State  ...                1948           2048\n",
              "3       4            State  ...                 616            616\n",
              "4       5            State  ...                 792           1926\n",
              "5       6            State  ...                  20             76\n",
              "6       7            State  ...                 477            479\n",
              "7       8            State  ...                 967           1104\n",
              "8       9            State  ...                 106            251\n",
              "9      10            State  ...                 255            298\n",
              "10     11            State  ...                 843            927\n",
              "11     12            State  ...                 557            558\n",
              "12     13            State  ...                 950           2035\n",
              "13     14            State  ...                2517           5599\n",
              "14     15            State  ...                1933           1945\n",
              "15     16            State  ...                  39             41\n",
              "16     17            State  ...                  73            119\n",
              "17     18            State  ...                  25             25\n",
              "18     19            State  ...                   9             10\n",
              "19     20            State  ...                 785           2082\n",
              "20     21            State  ...                 424            550\n",
              "21     22            State  ...                2807           3319\n",
              "22     23            State  ...                  17             17\n",
              "23     24            State  ...                 283            283\n",
              "24     25            State  ...                 699            699\n",
              "25     26            State  ...                  96            101\n",
              "26     27            State  ...                3109           4669\n",
              "27     28            State  ...                 237            397\n",
              "28     29            State  ...                1084           1084\n",
              "29     30  Union Territory  ...                  12             13\n",
              "30     31  Union Territory  ...                  20             65\n",
              "31     32  Union Territory  ...                   1              1\n",
              "32     33  Union Territory  ...                   5              7\n",
              "33     34  Union Territory  ...                1231           1231\n",
              "34     35  Union Territory  ...                   0              0\n",
              "35     36  Union Territory  ...                   7              7\n",
              "\n",
              "[36 rows x 15 columns]"
            ]
          },
          "metadata": {
            "tags": []
          },
          "execution_count": 8
        }
      ]
    },
    {
      "cell_type": "code",
      "metadata": {
        "id": "gGdo2uCLOXSX",
        "colab": {
          "base_uri": "https://localhost:8080/"
        },
        "outputId": "4b2fdc92-2951-4cea-c53c-ee0b7e119fc5"
      },
      "source": [
        "dat.shape"
      ],
      "execution_count": null,
      "outputs": [
        {
          "output_type": "execute_result",
          "data": {
            "text/plain": [
              "(36, 16)"
            ]
          },
          "metadata": {
            "tags": []
          },
          "execution_count": 26
        }
      ]
    },
    {
      "cell_type": "code",
      "metadata": {
        "id": "wz6zv0bLOXVD",
        "colab": {
          "base_uri": "https://localhost:8080/"
        },
        "outputId": "a56d25f9-5ef0-4a4d-a0e3-904095b63b04"
      },
      "source": [
        "dat.columns"
      ],
      "execution_count": null,
      "outputs": [
        {
          "output_type": "execute_result",
          "data": {
            "text/plain": [
              "Index(['S. No', 'Category', 'State/UT', 'Cases Reported', 'Below 6 Years',\n",
              "       '6-12 Years', '12-16 Years', '16-18 Years', 'Total Child Victims',\n",
              "       '18-30 Years', '30-45 Years', '45-60 Years', '60 Years & Above',\n",
              "       'Total Women Victims', 'Total Victims', 'case not reported'],\n",
              "      dtype='object')"
            ]
          },
          "metadata": {
            "tags": []
          },
          "execution_count": 27
        }
      ]
    },
    {
      "cell_type": "code",
      "metadata": {
        "id": "DFZGZZVMOXXk",
        "colab": {
          "base_uri": "https://localhost:8080/"
        },
        "outputId": "437883f2-7bbd-4cd0-e99e-83a8863f9032"
      },
      "source": [
        "dat.info()"
      ],
      "execution_count": null,
      "outputs": [
        {
          "output_type": "stream",
          "text": [
            "<class 'pandas.core.frame.DataFrame'>\n",
            "RangeIndex: 36 entries, 0 to 35\n",
            "Data columns (total 16 columns):\n",
            " #   Column               Non-Null Count  Dtype \n",
            "---  ------               --------------  ----- \n",
            " 0   S. No                36 non-null     int64 \n",
            " 1   Category             36 non-null     object\n",
            " 2   State/UT             36 non-null     object\n",
            " 3   Cases Reported       36 non-null     int64 \n",
            " 4   Below 6 Years        36 non-null     int64 \n",
            " 5   6-12 Years           36 non-null     int64 \n",
            " 6   12-16 Years          36 non-null     int64 \n",
            " 7   16-18 Years          36 non-null     int64 \n",
            " 8   Total Child Victims  36 non-null     int64 \n",
            " 9   18-30 Years          36 non-null     int64 \n",
            " 10  30-45 Years          36 non-null     int64 \n",
            " 11  45-60 Years          36 non-null     int64 \n",
            " 12  60 Years & Above     36 non-null     int64 \n",
            " 13  Total Women Victims  36 non-null     int64 \n",
            " 14  Total Victims        36 non-null     int64 \n",
            " 15  case not reported    36 non-null     int64 \n",
            "dtypes: int64(14), object(2)\n",
            "memory usage: 4.6+ KB\n"
          ],
          "name": "stdout"
        }
      ]
    },
    {
      "cell_type": "code",
      "metadata": {
        "id": "aiOvDdKXOXaM",
        "colab": {
          "base_uri": "https://localhost:8080/",
          "height": 351
        },
        "outputId": "1b9fa416-f085-402e-9173-9446b60ac9cb"
      },
      "source": [
        "dat.describe()"
      ],
      "execution_count": null,
      "outputs": [
        {
          "output_type": "execute_result",
          "data": {
            "text/html": [
              "<div>\n",
              "<style scoped>\n",
              "    .dataframe tbody tr th:only-of-type {\n",
              "        vertical-align: middle;\n",
              "    }\n",
              "\n",
              "    .dataframe tbody tr th {\n",
              "        vertical-align: top;\n",
              "    }\n",
              "\n",
              "    .dataframe thead th {\n",
              "        text-align: right;\n",
              "    }\n",
              "</style>\n",
              "<table border=\"1\" class=\"dataframe\">\n",
              "  <thead>\n",
              "    <tr style=\"text-align: right;\">\n",
              "      <th></th>\n",
              "      <th>S. No</th>\n",
              "      <th>Cases Reported</th>\n",
              "      <th>Below 6 Years</th>\n",
              "      <th>6-12 Years</th>\n",
              "      <th>12-16 Years</th>\n",
              "      <th>16-18 Years</th>\n",
              "      <th>Total Child Victims</th>\n",
              "      <th>18-30 Years</th>\n",
              "      <th>30-45 Years</th>\n",
              "      <th>45-60 Years</th>\n",
              "      <th>60 Years &amp; Above</th>\n",
              "      <th>Total Women Victims</th>\n",
              "      <th>Total Victims</th>\n",
              "      <th>case not reported</th>\n",
              "    </tr>\n",
              "  </thead>\n",
              "  <tbody>\n",
              "    <tr>\n",
              "      <th>count</th>\n",
              "      <td>36.000000</td>\n",
              "      <td>36.000000</td>\n",
              "      <td>36.000000</td>\n",
              "      <td>36.000000</td>\n",
              "      <td>36.000000</td>\n",
              "      <td>36.000000</td>\n",
              "      <td>36.000000</td>\n",
              "      <td>36.000000</td>\n",
              "      <td>36.000000</td>\n",
              "      <td>36.000000</td>\n",
              "      <td>36.000000</td>\n",
              "      <td>36.000000</td>\n",
              "      <td>36.000000</td>\n",
              "      <td>36.000000</td>\n",
              "    </tr>\n",
              "    <tr>\n",
              "      <th>mean</th>\n",
              "      <td>18.500000</td>\n",
              "      <td>904.416667</td>\n",
              "      <td>8.277778</td>\n",
              "      <td>22.722222</td>\n",
              "      <td>104.416667</td>\n",
              "      <td>148.500000</td>\n",
              "      <td>283.916667</td>\n",
              "      <td>469.444444</td>\n",
              "      <td>163.750000</td>\n",
              "      <td>13.972222</td>\n",
              "      <td>3.861111</td>\n",
              "      <td>651.027778</td>\n",
              "      <td>934.944444</td>\n",
              "      <td>30.527778</td>\n",
              "    </tr>\n",
              "    <tr>\n",
              "      <th>std</th>\n",
              "      <td>10.535654</td>\n",
              "      <td>1274.425055</td>\n",
              "      <td>20.525400</td>\n",
              "      <td>49.493209</td>\n",
              "      <td>249.547748</td>\n",
              "      <td>332.764653</td>\n",
              "      <td>628.831723</td>\n",
              "      <td>596.658813</td>\n",
              "      <td>225.600326</td>\n",
              "      <td>23.838128</td>\n",
              "      <td>8.845185</td>\n",
              "      <td>839.523078</td>\n",
              "      <td>1317.794000</td>\n",
              "      <td>84.217231</td>\n",
              "    </tr>\n",
              "    <tr>\n",
              "      <th>min</th>\n",
              "      <td>1.000000</td>\n",
              "      <td>0.000000</td>\n",
              "      <td>0.000000</td>\n",
              "      <td>0.000000</td>\n",
              "      <td>0.000000</td>\n",
              "      <td>0.000000</td>\n",
              "      <td>0.000000</td>\n",
              "      <td>0.000000</td>\n",
              "      <td>0.000000</td>\n",
              "      <td>0.000000</td>\n",
              "      <td>0.000000</td>\n",
              "      <td>0.000000</td>\n",
              "      <td>0.000000</td>\n",
              "      <td>0.000000</td>\n",
              "    </tr>\n",
              "    <tr>\n",
              "      <th>25%</th>\n",
              "      <td>9.750000</td>\n",
              "      <td>54.250000</td>\n",
              "      <td>0.000000</td>\n",
              "      <td>0.000000</td>\n",
              "      <td>0.000000</td>\n",
              "      <td>0.000000</td>\n",
              "      <td>0.000000</td>\n",
              "      <td>15.250000</td>\n",
              "      <td>5.750000</td>\n",
              "      <td>0.000000</td>\n",
              "      <td>0.000000</td>\n",
              "      <td>23.750000</td>\n",
              "      <td>59.000000</td>\n",
              "      <td>0.000000</td>\n",
              "    </tr>\n",
              "    <tr>\n",
              "      <th>50%</th>\n",
              "      <td>18.500000</td>\n",
              "      <td>425.500000</td>\n",
              "      <td>1.000000</td>\n",
              "      <td>2.000000</td>\n",
              "      <td>6.500000</td>\n",
              "      <td>6.500000</td>\n",
              "      <td>27.000000</td>\n",
              "      <td>270.000000</td>\n",
              "      <td>58.000000</td>\n",
              "      <td>4.500000</td>\n",
              "      <td>1.000000</td>\n",
              "      <td>353.500000</td>\n",
              "      <td>438.000000</td>\n",
              "      <td>3.500000</td>\n",
              "    </tr>\n",
              "    <tr>\n",
              "      <th>75%</th>\n",
              "      <td>27.250000</td>\n",
              "      <td>1131.500000</td>\n",
              "      <td>5.000000</td>\n",
              "      <td>15.750000</td>\n",
              "      <td>59.000000</td>\n",
              "      <td>68.250000</td>\n",
              "      <td>139.000000</td>\n",
              "      <td>647.000000</td>\n",
              "      <td>245.250000</td>\n",
              "      <td>14.000000</td>\n",
              "      <td>3.250000</td>\n",
              "      <td>869.750000</td>\n",
              "      <td>1135.750000</td>\n",
              "      <td>14.750000</td>\n",
              "    </tr>\n",
              "    <tr>\n",
              "      <th>max</th>\n",
              "      <td>36.000000</td>\n",
              "      <td>5562.000000</td>\n",
              "      <td>105.000000</td>\n",
              "      <td>207.000000</td>\n",
              "      <td>1275.000000</td>\n",
              "      <td>1550.000000</td>\n",
              "      <td>3082.000000</td>\n",
              "      <td>2313.000000</td>\n",
              "      <td>779.000000</td>\n",
              "      <td>104.000000</td>\n",
              "      <td>46.000000</td>\n",
              "      <td>3109.000000</td>\n",
              "      <td>5599.000000</td>\n",
              "      <td>423.000000</td>\n",
              "    </tr>\n",
              "  </tbody>\n",
              "</table>\n",
              "</div>"
            ],
            "text/plain": [
              "           S. No  Cases Reported  ...  Total Victims  case not reported\n",
              "count  36.000000       36.000000  ...      36.000000          36.000000\n",
              "mean   18.500000      904.416667  ...     934.944444          30.527778\n",
              "std    10.535654     1274.425055  ...    1317.794000          84.217231\n",
              "min     1.000000        0.000000  ...       0.000000           0.000000\n",
              "25%     9.750000       54.250000  ...      59.000000           0.000000\n",
              "50%    18.500000      425.500000  ...     438.000000           3.500000\n",
              "75%    27.250000     1131.500000  ...    1135.750000          14.750000\n",
              "max    36.000000     5562.000000  ...    5599.000000         423.000000\n",
              "\n",
              "[8 rows x 14 columns]"
            ]
          },
          "metadata": {
            "tags": []
          },
          "execution_count": 29
        }
      ]
    },
    {
      "cell_type": "code",
      "metadata": {
        "id": "1Di9V0h8OXdq",
        "colab": {
          "base_uri": "https://localhost:8080/",
          "height": 173
        },
        "outputId": "f74b5cb1-8506-4117-eb65-8d6ea27c85f6"
      },
      "source": [
        "dat.describe(include='object')"
      ],
      "execution_count": null,
      "outputs": [
        {
          "output_type": "execute_result",
          "data": {
            "text/html": [
              "<div>\n",
              "<style scoped>\n",
              "    .dataframe tbody tr th:only-of-type {\n",
              "        vertical-align: middle;\n",
              "    }\n",
              "\n",
              "    .dataframe tbody tr th {\n",
              "        vertical-align: top;\n",
              "    }\n",
              "\n",
              "    .dataframe thead th {\n",
              "        text-align: right;\n",
              "    }\n",
              "</style>\n",
              "<table border=\"1\" class=\"dataframe\">\n",
              "  <thead>\n",
              "    <tr style=\"text-align: right;\">\n",
              "      <th></th>\n",
              "      <th>Category</th>\n",
              "      <th>State/UT</th>\n",
              "    </tr>\n",
              "  </thead>\n",
              "  <tbody>\n",
              "    <tr>\n",
              "      <th>count</th>\n",
              "      <td>36</td>\n",
              "      <td>36</td>\n",
              "    </tr>\n",
              "    <tr>\n",
              "      <th>unique</th>\n",
              "      <td>2</td>\n",
              "      <td>36</td>\n",
              "    </tr>\n",
              "    <tr>\n",
              "      <th>top</th>\n",
              "      <td>State</td>\n",
              "      <td>D&amp;N Haveli</td>\n",
              "    </tr>\n",
              "    <tr>\n",
              "      <th>freq</th>\n",
              "      <td>29</td>\n",
              "      <td>1</td>\n",
              "    </tr>\n",
              "  </tbody>\n",
              "</table>\n",
              "</div>"
            ],
            "text/plain": [
              "       Category    State/UT\n",
              "count        36          36\n",
              "unique        2          36\n",
              "top       State  D&N Haveli\n",
              "freq         29           1"
            ]
          },
          "metadata": {
            "tags": []
          },
          "execution_count": 30
        }
      ]
    },
    {
      "cell_type": "code",
      "metadata": {
        "id": "G-FChAnYQCsH",
        "colab": {
          "base_uri": "https://localhost:8080/"
        },
        "outputId": "f3d59ba6-2733-48e0-c086-dfa2d243f626"
      },
      "source": [
        "dat.isnull().sum()"
      ],
      "execution_count": null,
      "outputs": [
        {
          "output_type": "execute_result",
          "data": {
            "text/plain": [
              "S. No                  0\n",
              "Category               0\n",
              "State/UT               0\n",
              "Cases Reported         0\n",
              "Below 6 Years          0\n",
              "6-12 Years             0\n",
              "12-16 Years            0\n",
              "16-18 Years            0\n",
              "Total Child Victims    0\n",
              "18-30 Years            0\n",
              "30-45 Years            0\n",
              "45-60 Years            0\n",
              "60 Years & Above       0\n",
              "Total Women Victims    0\n",
              "Total Victims          0\n",
              "case not reported      0\n",
              "dtype: int64"
            ]
          },
          "metadata": {
            "tags": []
          },
          "execution_count": 31
        }
      ]
    },
    {
      "cell_type": "code",
      "metadata": {
        "id": "4R9j4O8Z2Xd2",
        "colab": {
          "base_uri": "https://localhost:8080/"
        },
        "outputId": "93149620-5790-4ad4-864a-b1fe8774cc8a"
      },
      "source": [
        "dat['Total Victims'].idxmax() #HIGHEST FREQ OF VICTIMS"
      ],
      "execution_count": null,
      "outputs": [
        {
          "output_type": "execute_result",
          "data": {
            "text/plain": [
              "13"
            ]
          },
          "metadata": {
            "tags": []
          },
          "execution_count": 32
        }
      ]
    },
    {
      "cell_type": "code",
      "metadata": {
        "id": "K-mlQelp2oCR",
        "colab": {
          "base_uri": "https://localhost:8080/"
        },
        "outputId": "c8fa5817-a004-4f45-c359-038304cd34f3"
      },
      "source": [
        "dat.iloc[dat['Total Victims'].idxmax()] #DETAILS OF HIGHEST FREQ OF VICTIMS"
      ],
      "execution_count": null,
      "outputs": [
        {
          "output_type": "execute_result",
          "data": {
            "text/plain": [
              "S. No                              14\n",
              "Category                        State\n",
              "State/UT               Madhya Pradesh\n",
              "Cases Reported                   5562\n",
              "Below 6 Years                      50\n",
              "6-12 Years                        207\n",
              "12-16 Years                      1275\n",
              "16-18 Years                      1550\n",
              "Total Child Victims              3082\n",
              "18-30 Years                      1651\n",
              "30-45 Years                       716\n",
              "45-60 Years                       104\n",
              "60 Years & Above                   46\n",
              "Total Women Victims              2517\n",
              "Total Victims                    5599\n",
              "case not reported                  37\n",
              "Name: 13, dtype: object"
            ]
          },
          "metadata": {
            "tags": []
          },
          "execution_count": 33
        }
      ]
    },
    {
      "cell_type": "code",
      "metadata": {
        "id": "ls7LCxin3afP",
        "colab": {
          "base_uri": "https://localhost:8080/"
        },
        "outputId": "e0420ae7-3ac3-40a0-e38f-3b22f5a5a7c4"
      },
      "source": [
        "dat.iloc[dat['Total Victims'].idxmin()] #details of min freq of victims"
      ],
      "execution_count": null,
      "outputs": [
        {
          "output_type": "execute_result",
          "data": {
            "text/plain": [
              "S. No                               35\n",
              "Category               Union Territory\n",
              "State/UT                   Lakshadweep\n",
              "Cases Reported                       0\n",
              "Below 6 Years                        0\n",
              "6-12 Years                           0\n",
              "12-16 Years                          0\n",
              "16-18 Years                          0\n",
              "Total Child Victims                  0\n",
              "18-30 Years                          0\n",
              "30-45 Years                          0\n",
              "45-60 Years                          0\n",
              "60 Years & Above                     0\n",
              "Total Women Victims                  0\n",
              "Total Victims                        0\n",
              "case not reported                    0\n",
              "Name: 34, dtype: object"
            ]
          },
          "metadata": {
            "tags": []
          },
          "execution_count": 34
        }
      ]
    },
    {
      "cell_type": "code",
      "metadata": {
        "id": "NtFuTu2L4dbS",
        "colab": {
          "base_uri": "https://localhost:8080/"
        },
        "outputId": "7be5b6e5-68be-4c1c-a5d5-b3932d98f82b"
      },
      "source": [
        "dat.iloc[dat['Cases Reported'].idxmin()]"
      ],
      "execution_count": null,
      "outputs": [
        {
          "output_type": "execute_result",
          "data": {
            "text/plain": [
              "S. No                               35\n",
              "Category               Union Territory\n",
              "State/UT                   Lakshadweep\n",
              "Cases Reported                       0\n",
              "Below 6 Years                        0\n",
              "6-12 Years                           0\n",
              "12-16 Years                          0\n",
              "16-18 Years                          0\n",
              "Total Child Victims                  0\n",
              "18-30 Years                          0\n",
              "30-45 Years                          0\n",
              "45-60 Years                          0\n",
              "60 Years & Above                     0\n",
              "Total Women Victims                  0\n",
              "Total Victims                        0\n",
              "case not reported                    0\n",
              "Name: 34, dtype: object"
            ]
          },
          "metadata": {
            "tags": []
          },
          "execution_count": 35
        }
      ]
    },
    {
      "cell_type": "code",
      "metadata": {
        "id": "uy5x0k_T5FEf",
        "colab": {
          "base_uri": "https://localhost:8080/"
        },
        "outputId": "b3a8b1bd-d622-4920-e503-8429a4b1136b"
      },
      "source": [
        "dat.iloc[dat['Cases Reported'].idxmax()]"
      ],
      "execution_count": null,
      "outputs": [
        {
          "output_type": "execute_result",
          "data": {
            "text/plain": [
              "S. No                              14\n",
              "Category                        State\n",
              "State/UT               Madhya Pradesh\n",
              "Cases Reported                   5562\n",
              "Below 6 Years                      50\n",
              "6-12 Years                        207\n",
              "12-16 Years                      1275\n",
              "16-18 Years                      1550\n",
              "Total Child Victims              3082\n",
              "18-30 Years                      1651\n",
              "30-45 Years                       716\n",
              "45-60 Years                       104\n",
              "60 Years & Above                   46\n",
              "Total Women Victims              2517\n",
              "Total Victims                    5599\n",
              "case not reported                  37\n",
              "Name: 13, dtype: object"
            ]
          },
          "metadata": {
            "tags": []
          },
          "execution_count": 36
        }
      ]
    },
    {
      "cell_type": "code",
      "metadata": {
        "id": "NyphsZF26skm"
      },
      "source": [
        "dat['case not reported']=dat['Total Victims']- dat['Cases Reported'] #created a column of case not reported"
      ],
      "execution_count": null,
      "outputs": []
    },
    {
      "cell_type": "code",
      "metadata": {
        "id": "zMDtaGDYY2WY",
        "colab": {
          "base_uri": "https://localhost:8080/"
        },
        "outputId": "6166b609-e9f8-4046-db02-17502fbc2434"
      },
      "source": [
        "type(dat)"
      ],
      "execution_count": null,
      "outputs": [
        {
          "output_type": "execute_result",
          "data": {
            "text/plain": [
              "pandas.core.frame.DataFrame"
            ]
          },
          "metadata": {
            "tags": []
          },
          "execution_count": 33
        }
      ]
    },
    {
      "cell_type": "code",
      "metadata": {
        "id": "rzQd3c0R7gjc",
        "colab": {
          "base_uri": "https://localhost:8080/"
        },
        "outputId": "d3fc18c3-687b-4d41-8b1e-21d9a70fd9ee"
      },
      "source": [
        "dat.iloc[dat['case not reported'].idxmax()]"
      ],
      "execution_count": null,
      "outputs": [
        {
          "output_type": "execute_result",
          "data": {
            "text/plain": [
              "S. No                             27\n",
              "Category                       State\n",
              "State/UT               Uttar Pradesh\n",
              "Cases Reported                  4246\n",
              "Below 6 Years                    105\n",
              "6-12 Years                       190\n",
              "12-16 Years                      713\n",
              "16-18 Years                      552\n",
              "Total Child Victims             1560\n",
              "18-30 Years                     2313\n",
              "30-45 Years                      779\n",
              "45-60 Years                        9\n",
              "60 Years & Above                   8\n",
              "Total Women Victims             3109\n",
              "Total Victims                   4669\n",
              "case not reported                423\n",
              "Name: 26, dtype: object"
            ]
          },
          "metadata": {
            "tags": []
          },
          "execution_count": 38
        }
      ]
    },
    {
      "cell_type": "code",
      "metadata": {
        "id": "9sEBo_SG8u7i",
        "colab": {
          "base_uri": "https://localhost:8080/"
        },
        "outputId": "c59d159f-fc4d-43c8-e514-4c4ee6a0ed78"
      },
      "source": [
        "dat.iloc[dat['case not reported'].idxmin()]"
      ],
      "execution_count": null,
      "outputs": [
        {
          "output_type": "execute_result",
          "data": {
            "text/plain": [
              "S. No                      6\n",
              "Category               State\n",
              "State/UT                 Goa\n",
              "Cases Reported            76\n",
              "Below 6 Years              4\n",
              "6-12 Years                 5\n",
              "12-16 Years               31\n",
              "16-18 Years               16\n",
              "Total Child Victims       56\n",
              "18-30 Years               13\n",
              "30-45 Years                6\n",
              "45-60 Years                1\n",
              "60 Years & Above           0\n",
              "Total Women Victims       20\n",
              "Total Victims             76\n",
              "case not reported          0\n",
              "Name: 5, dtype: object"
            ]
          },
          "metadata": {
            "tags": []
          },
          "execution_count": 41
        }
      ]
    },
    {
      "cell_type": "code",
      "metadata": {
        "id": "x1lABou5CxEH",
        "colab": {
          "base_uri": "https://localhost:8080/"
        },
        "outputId": "7dcb7a37-f53d-4da9-bc7a-f82d35933deb"
      },
      "source": [
        "dat.columns"
      ],
      "execution_count": null,
      "outputs": [
        {
          "output_type": "execute_result",
          "data": {
            "text/plain": [
              "Index(['S. No', 'Category', 'State/UT', 'Cases Reported', 'Below 6 Years',\n",
              "       '6-12 Years', '12-16 Years', '16-18 Years', 'Total Child Victims',\n",
              "       '18-30 Years', '30-45 Years', '45-60 Years', '60 Years & Above',\n",
              "       'Total Women Victims', 'Total Victims', 'case not reported'],\n",
              "      dtype='object')"
            ]
          },
          "metadata": {
            "tags": []
          },
          "execution_count": 39
        }
      ]
    },
    {
      "cell_type": "code",
      "metadata": {
        "id": "xv6Kp6XOC09k",
        "colab": {
          "base_uri": "https://localhost:8080/"
        },
        "outputId": "06978900-a776-4acb-859a-9bbfaca78c29"
      },
      "source": [
        "dat['Total Child Victims'].sum() #total child victims"
      ],
      "execution_count": null,
      "outputs": [
        {
          "output_type": "execute_result",
          "data": {
            "text/plain": [
              "10221"
            ]
          },
          "metadata": {
            "tags": []
          },
          "execution_count": 40
        }
      ]
    },
    {
      "cell_type": "code",
      "metadata": {
        "id": "hn0a4OTKWthw",
        "colab": {
          "base_uri": "https://localhost:8080/"
        },
        "outputId": "88e55a2d-4447-4826-b75f-36a10c3340e9"
      },
      "source": [
        "dat.iloc[dat['Total Child Victims'].idxmax() ] #max child victims"
      ],
      "execution_count": null,
      "outputs": [
        {
          "output_type": "execute_result",
          "data": {
            "text/plain": [
              "S. No                              14\n",
              "Category                        State\n",
              "State/UT               Madhya Pradesh\n",
              "Cases Reported                   5562\n",
              "Below 6 Years                      50\n",
              "6-12 Years                        207\n",
              "12-16 Years                      1275\n",
              "16-18 Years                      1550\n",
              "Total Child Victims              3082\n",
              "18-30 Years                      1651\n",
              "30-45 Years                       716\n",
              "45-60 Years                       104\n",
              "60 Years & Above                   46\n",
              "Total Women Victims              2517\n",
              "Total Victims                    5599\n",
              "case not reported                  37\n",
              "Name: 13, dtype: object"
            ]
          },
          "metadata": {
            "tags": []
          },
          "execution_count": 42
        }
      ]
    },
    {
      "cell_type": "code",
      "metadata": {
        "id": "sDG4c9IIXfb8",
        "colab": {
          "base_uri": "https://localhost:8080/",
          "height": 477
        },
        "outputId": "01a64295-900c-43d0-b33f-a02d57439762"
      },
      "source": [
        "dat[dat['Total Child Victims']==0 ]#mIN child victims"
      ],
      "execution_count": null,
      "outputs": [
        {
          "output_type": "execute_result",
          "data": {
            "text/html": [
              "<div>\n",
              "<style scoped>\n",
              "    .dataframe tbody tr th:only-of-type {\n",
              "        vertical-align: middle;\n",
              "    }\n",
              "\n",
              "    .dataframe tbody tr th {\n",
              "        vertical-align: top;\n",
              "    }\n",
              "\n",
              "    .dataframe thead th {\n",
              "        text-align: right;\n",
              "    }\n",
              "</style>\n",
              "<table border=\"1\" class=\"dataframe\">\n",
              "  <thead>\n",
              "    <tr style=\"text-align: right;\">\n",
              "      <th></th>\n",
              "      <th>S. No</th>\n",
              "      <th>Category</th>\n",
              "      <th>State/UT</th>\n",
              "      <th>Cases Reported</th>\n",
              "      <th>Below 6 Years</th>\n",
              "      <th>6-12 Years</th>\n",
              "      <th>12-16 Years</th>\n",
              "      <th>16-18 Years</th>\n",
              "      <th>Total Child Victims</th>\n",
              "      <th>18-30 Years</th>\n",
              "      <th>30-45 Years</th>\n",
              "      <th>45-60 Years</th>\n",
              "      <th>60 Years &amp; Above</th>\n",
              "      <th>Total Women Victims</th>\n",
              "      <th>Total Victims</th>\n",
              "      <th>case not reported</th>\n",
              "    </tr>\n",
              "  </thead>\n",
              "  <tbody>\n",
              "    <tr>\n",
              "      <th>3</th>\n",
              "      <td>4</td>\n",
              "      <td>State</td>\n",
              "      <td>Bihar</td>\n",
              "      <td>605</td>\n",
              "      <td>0</td>\n",
              "      <td>0</td>\n",
              "      <td>0</td>\n",
              "      <td>0</td>\n",
              "      <td>0</td>\n",
              "      <td>546</td>\n",
              "      <td>68</td>\n",
              "      <td>2</td>\n",
              "      <td>0</td>\n",
              "      <td>616</td>\n",
              "      <td>616</td>\n",
              "      <td>11</td>\n",
              "    </tr>\n",
              "    <tr>\n",
              "      <th>17</th>\n",
              "      <td>18</td>\n",
              "      <td>State</td>\n",
              "      <td>Mizoram</td>\n",
              "      <td>25</td>\n",
              "      <td>0</td>\n",
              "      <td>0</td>\n",
              "      <td>0</td>\n",
              "      <td>0</td>\n",
              "      <td>0</td>\n",
              "      <td>13</td>\n",
              "      <td>8</td>\n",
              "      <td>2</td>\n",
              "      <td>2</td>\n",
              "      <td>25</td>\n",
              "      <td>25</td>\n",
              "      <td>0</td>\n",
              "    </tr>\n",
              "    <tr>\n",
              "      <th>22</th>\n",
              "      <td>23</td>\n",
              "      <td>State</td>\n",
              "      <td>Sikkim</td>\n",
              "      <td>17</td>\n",
              "      <td>0</td>\n",
              "      <td>0</td>\n",
              "      <td>0</td>\n",
              "      <td>0</td>\n",
              "      <td>0</td>\n",
              "      <td>12</td>\n",
              "      <td>4</td>\n",
              "      <td>1</td>\n",
              "      <td>0</td>\n",
              "      <td>17</td>\n",
              "      <td>17</td>\n",
              "      <td>0</td>\n",
              "    </tr>\n",
              "    <tr>\n",
              "      <th>23</th>\n",
              "      <td>24</td>\n",
              "      <td>State</td>\n",
              "      <td>Tamil Nadu</td>\n",
              "      <td>283</td>\n",
              "      <td>0</td>\n",
              "      <td>0</td>\n",
              "      <td>0</td>\n",
              "      <td>0</td>\n",
              "      <td>0</td>\n",
              "      <td>230</td>\n",
              "      <td>44</td>\n",
              "      <td>4</td>\n",
              "      <td>5</td>\n",
              "      <td>283</td>\n",
              "      <td>283</td>\n",
              "      <td>0</td>\n",
              "    </tr>\n",
              "    <tr>\n",
              "      <th>24</th>\n",
              "      <td>25</td>\n",
              "      <td>State</td>\n",
              "      <td>Telangana</td>\n",
              "      <td>552</td>\n",
              "      <td>0</td>\n",
              "      <td>0</td>\n",
              "      <td>0</td>\n",
              "      <td>0</td>\n",
              "      <td>0</td>\n",
              "      <td>502</td>\n",
              "      <td>178</td>\n",
              "      <td>14</td>\n",
              "      <td>5</td>\n",
              "      <td>699</td>\n",
              "      <td>699</td>\n",
              "      <td>147</td>\n",
              "    </tr>\n",
              "    <tr>\n",
              "      <th>28</th>\n",
              "      <td>29</td>\n",
              "      <td>State</td>\n",
              "      <td>West Bengal</td>\n",
              "      <td>1084</td>\n",
              "      <td>0</td>\n",
              "      <td>0</td>\n",
              "      <td>0</td>\n",
              "      <td>0</td>\n",
              "      <td>0</td>\n",
              "      <td>799</td>\n",
              "      <td>263</td>\n",
              "      <td>21</td>\n",
              "      <td>1</td>\n",
              "      <td>1084</td>\n",
              "      <td>1084</td>\n",
              "      <td>0</td>\n",
              "    </tr>\n",
              "    <tr>\n",
              "      <th>31</th>\n",
              "      <td>32</td>\n",
              "      <td>Union Territory</td>\n",
              "      <td>D&amp;N Haveli</td>\n",
              "      <td>1</td>\n",
              "      <td>0</td>\n",
              "      <td>0</td>\n",
              "      <td>0</td>\n",
              "      <td>0</td>\n",
              "      <td>0</td>\n",
              "      <td>1</td>\n",
              "      <td>0</td>\n",
              "      <td>0</td>\n",
              "      <td>0</td>\n",
              "      <td>1</td>\n",
              "      <td>1</td>\n",
              "      <td>0</td>\n",
              "    </tr>\n",
              "    <tr>\n",
              "      <th>33</th>\n",
              "      <td>34</td>\n",
              "      <td>Union Territory</td>\n",
              "      <td>Delhi UT</td>\n",
              "      <td>1229</td>\n",
              "      <td>0</td>\n",
              "      <td>0</td>\n",
              "      <td>0</td>\n",
              "      <td>0</td>\n",
              "      <td>0</td>\n",
              "      <td>871</td>\n",
              "      <td>337</td>\n",
              "      <td>20</td>\n",
              "      <td>3</td>\n",
              "      <td>1231</td>\n",
              "      <td>1231</td>\n",
              "      <td>2</td>\n",
              "    </tr>\n",
              "    <tr>\n",
              "      <th>34</th>\n",
              "      <td>35</td>\n",
              "      <td>Union Territory</td>\n",
              "      <td>Lakshadweep</td>\n",
              "      <td>0</td>\n",
              "      <td>0</td>\n",
              "      <td>0</td>\n",
              "      <td>0</td>\n",
              "      <td>0</td>\n",
              "      <td>0</td>\n",
              "      <td>0</td>\n",
              "      <td>0</td>\n",
              "      <td>0</td>\n",
              "      <td>0</td>\n",
              "      <td>0</td>\n",
              "      <td>0</td>\n",
              "      <td>0</td>\n",
              "    </tr>\n",
              "    <tr>\n",
              "      <th>35</th>\n",
              "      <td>36</td>\n",
              "      <td>Union Territory</td>\n",
              "      <td>Puducherry</td>\n",
              "      <td>7</td>\n",
              "      <td>0</td>\n",
              "      <td>0</td>\n",
              "      <td>0</td>\n",
              "      <td>0</td>\n",
              "      <td>0</td>\n",
              "      <td>7</td>\n",
              "      <td>0</td>\n",
              "      <td>0</td>\n",
              "      <td>0</td>\n",
              "      <td>7</td>\n",
              "      <td>7</td>\n",
              "      <td>0</td>\n",
              "    </tr>\n",
              "  </tbody>\n",
              "</table>\n",
              "</div>"
            ],
            "text/plain": [
              "    S. No         Category  ... Total Victims  case not reported\n",
              "3       4            State  ...           616                 11\n",
              "17     18            State  ...            25                  0\n",
              "22     23            State  ...            17                  0\n",
              "23     24            State  ...           283                  0\n",
              "24     25            State  ...           699                147\n",
              "28     29            State  ...          1084                  0\n",
              "31     32  Union Territory  ...             1                  0\n",
              "33     34  Union Territory  ...          1231                  2\n",
              "34     35  Union Territory  ...             0                  0\n",
              "35     36  Union Territory  ...             7                  0\n",
              "\n",
              "[10 rows x 16 columns]"
            ]
          },
          "metadata": {
            "tags": []
          },
          "execution_count": 43
        }
      ]
    },
    {
      "cell_type": "code",
      "metadata": {
        "id": "0NVxitIBEtVS",
        "colab": {
          "base_uri": "https://localhost:8080/"
        },
        "outputId": "32448851-d213-4f8b-c5a3-a94a75d23cb6"
      },
      "source": [
        "dat.iloc[dat['Total Women Victims'].idxmax()] #max women victims"
      ],
      "execution_count": null,
      "outputs": [
        {
          "output_type": "execute_result",
          "data": {
            "text/plain": [
              "S. No                             27\n",
              "Category                       State\n",
              "State/UT               Uttar Pradesh\n",
              "Cases Reported                  4246\n",
              "Below 6 Years                    105\n",
              "6-12 Years                       190\n",
              "12-16 Years                      713\n",
              "16-18 Years                      552\n",
              "Total Child Victims             1560\n",
              "18-30 Years                     2313\n",
              "30-45 Years                      779\n",
              "45-60 Years                        9\n",
              "60 Years & Above                   8\n",
              "Total Women Victims             3109\n",
              "Total Victims                   4669\n",
              "case not reported                423\n",
              "Name: 26, dtype: object"
            ]
          },
          "metadata": {
            "tags": []
          },
          "execution_count": 47
        }
      ]
    },
    {
      "cell_type": "code",
      "metadata": {
        "id": "RhfWLsMvaa2z",
        "colab": {
          "base_uri": "https://localhost:8080/"
        },
        "outputId": "25e8d928-f40d-4572-bf9f-eba3d63bd6b6"
      },
      "source": [
        "dat.iloc[dat['Total Women Victims'].idxmin()] #MIN women victims"
      ],
      "execution_count": null,
      "outputs": [
        {
          "output_type": "execute_result",
          "data": {
            "text/plain": [
              "S. No                               35\n",
              "Category               Union Territory\n",
              "State/UT                   Lakshadweep\n",
              "Cases Reported                       0\n",
              "Below 6 Years                        0\n",
              "6-12 Years                           0\n",
              "12-16 Years                          0\n",
              "16-18 Years                          0\n",
              "Total Child Victims                  0\n",
              "18-30 Years                          0\n",
              "30-45 Years                          0\n",
              "45-60 Years                          0\n",
              "60 Years & Above                     0\n",
              "Total Women Victims                  0\n",
              "Total Victims                        0\n",
              "case not reported                    0\n",
              "Name: 34, dtype: object"
            ]
          },
          "metadata": {
            "tags": []
          },
          "execution_count": 46
        }
      ]
    },
    {
      "cell_type": "code",
      "metadata": {
        "id": "jrLMmHMgEtY5",
        "colab": {
          "base_uri": "https://localhost:8080/"
        },
        "outputId": "319204d0-17de-4fbd-e8b4-414bebef91c5"
      },
      "source": [
        "dat['Total Victims'].sum() #total  victims"
      ],
      "execution_count": null,
      "outputs": [
        {
          "output_type": "execute_result",
          "data": {
            "text/plain": [
              "33658"
            ]
          },
          "metadata": {
            "tags": []
          },
          "execution_count": 45
        }
      ]
    },
    {
      "cell_type": "code",
      "metadata": {
        "id": "GyIblN9ZE5zI",
        "colab": {
          "base_uri": "https://localhost:8080/"
        },
        "outputId": "eca88e97-ba3d-4009-87d3-6dc3434712ba"
      },
      "source": [
        "dat['case not reported'].sum() #total case not reported"
      ],
      "execution_count": null,
      "outputs": [
        {
          "output_type": "execute_result",
          "data": {
            "text/plain": [
              "1099"
            ]
          },
          "metadata": {
            "tags": []
          },
          "execution_count": 44
        }
      ]
    },
    {
      "cell_type": "markdown",
      "metadata": {
        "id": "-d6rTGV1cuw2"
      },
      "source": [
        "# **child victim**"
      ]
    },
    {
      "cell_type": "code",
      "metadata": {
        "id": "v8i1hmnObJ2G",
        "colab": {
          "base_uri": "https://localhost:8080/"
        },
        "outputId": "ead04745-928a-4e3d-e705-f883b819ca1b"
      },
      "source": [
        "dat.iloc[dat['Below 6 Years'].idxmax()] #max victim below 6 up 105"
      ],
      "execution_count": null,
      "outputs": [
        {
          "output_type": "execute_result",
          "data": {
            "text/plain": [
              "S. No                             27\n",
              "Category                       State\n",
              "State/UT               Uttar Pradesh\n",
              "Cases Reported                  4246\n",
              "Below 6 Years                    105\n",
              "6-12 Years                       190\n",
              "12-16 Years                      713\n",
              "16-18 Years                      552\n",
              "Total Child Victims             1560\n",
              "18-30 Years                     2313\n",
              "30-45 Years                      779\n",
              "45-60 Years                        9\n",
              "60 Years & Above                   8\n",
              "Total Women Victims             3109\n",
              "Total Victims                   4669\n",
              "case not reported                423\n",
              "Name: 26, dtype: object"
            ]
          },
          "metadata": {
            "tags": []
          },
          "execution_count": 48
        }
      ]
    },
    {
      "cell_type": "code",
      "metadata": {
        "id": "1nHZj5jTbJ4v",
        "colab": {
          "base_uri": "https://localhost:8080/"
        },
        "outputId": "3bc69885-a308-409c-8948-cd1b74b949a0"
      },
      "source": [
        "dat.iloc[dat['6-12 Years'].idxmax()] #max victim 6-12 207"
      ],
      "execution_count": null,
      "outputs": [
        {
          "output_type": "execute_result",
          "data": {
            "text/plain": [
              "S. No                              14\n",
              "Category                        State\n",
              "State/UT               Madhya Pradesh\n",
              "Cases Reported                   5562\n",
              "Below 6 Years                      50\n",
              "6-12 Years                        207\n",
              "12-16 Years                      1275\n",
              "16-18 Years                      1550\n",
              "Total Child Victims              3082\n",
              "18-30 Years                      1651\n",
              "30-45 Years                       716\n",
              "45-60 Years                       104\n",
              "60 Years & Above                   46\n",
              "Total Women Victims              2517\n",
              "Total Victims                    5599\n",
              "case not reported                  37\n",
              "Name: 13, dtype: object"
            ]
          },
          "metadata": {
            "tags": []
          },
          "execution_count": 50
        }
      ]
    },
    {
      "cell_type": "code",
      "metadata": {
        "id": "6nxtwtQSbJ7n",
        "colab": {
          "base_uri": "https://localhost:8080/"
        },
        "outputId": "535c392d-ae94-40d9-cbf0-8970e66005a8"
      },
      "source": [
        "dat.iloc[dat['12-16 Years'].idxmax()] #max victim 12-16 mp 1275"
      ],
      "execution_count": null,
      "outputs": [
        {
          "output_type": "execute_result",
          "data": {
            "text/plain": [
              "S. No                              14\n",
              "Category                        State\n",
              "State/UT               Madhya Pradesh\n",
              "Cases Reported                   5562\n",
              "Below 6 Years                      50\n",
              "6-12 Years                        207\n",
              "12-16 Years                      1275\n",
              "16-18 Years                      1550\n",
              "Total Child Victims              3082\n",
              "18-30 Years                      1651\n",
              "30-45 Years                       716\n",
              "45-60 Years                       104\n",
              "60 Years & Above                   46\n",
              "Total Women Victims              2517\n",
              "Total Victims                    5599\n",
              "case not reported                  37\n",
              "Name: 13, dtype: object"
            ]
          },
          "metadata": {
            "tags": []
          },
          "execution_count": 49
        }
      ]
    },
    {
      "cell_type": "code",
      "metadata": {
        "id": "1lDaVSzpbJ-r",
        "colab": {
          "base_uri": "https://localhost:8080/"
        },
        "outputId": "4c2b5d86-e1b4-4150-e844-1e9d1e17982a"
      },
      "source": [
        "dat.iloc[dat['16-18 Years'].idxmax()] #max victim 16-18 mp 1550"
      ],
      "execution_count": null,
      "outputs": [
        {
          "output_type": "execute_result",
          "data": {
            "text/plain": [
              "S. No                              14\n",
              "Category                        State\n",
              "State/UT               Madhya Pradesh\n",
              "Cases Reported                   5562\n",
              "Below 6 Years                      50\n",
              "6-12 Years                        207\n",
              "12-16 Years                      1275\n",
              "16-18 Years                      1550\n",
              "Total Child Victims              3082\n",
              "18-30 Years                      1651\n",
              "30-45 Years                       716\n",
              "45-60 Years                       104\n",
              "60 Years & Above                   46\n",
              "Total Women Victims              2517\n",
              "Total Victims                    5599\n",
              "case not reported                  37\n",
              "Name: 13, dtype: object"
            ]
          },
          "metadata": {
            "tags": []
          },
          "execution_count": 51
        }
      ]
    },
    {
      "cell_type": "code",
      "metadata": {
        "id": "iEuwZm2fbKB2",
        "colab": {
          "base_uri": "https://localhost:8080/"
        },
        "outputId": "94886653-374e-466c-a48d-47a9b16ad26a"
      },
      "source": [
        "dat.iloc[dat['Total Child Victims'].idxmax() ] #max child victims 3082 mp"
      ],
      "execution_count": null,
      "outputs": [
        {
          "output_type": "execute_result",
          "data": {
            "text/plain": [
              "S. No                              14\n",
              "Category                        State\n",
              "State/UT               Madhya Pradesh\n",
              "Cases Reported                   5562\n",
              "Below 6 Years                      50\n",
              "6-12 Years                        207\n",
              "12-16 Years                      1275\n",
              "16-18 Years                      1550\n",
              "Total Child Victims              3082\n",
              "18-30 Years                      1651\n",
              "30-45 Years                       716\n",
              "45-60 Years                       104\n",
              "60 Years & Above                   46\n",
              "Total Women Victims              2517\n",
              "Total Victims                    5599\n",
              "case not reported                  37\n",
              "Name: 13, dtype: object"
            ]
          },
          "metadata": {
            "tags": []
          },
          "execution_count": 52
        }
      ]
    },
    {
      "cell_type": "markdown",
      "metadata": {
        "id": "Z0UojkyvdOgo"
      },
      "source": [
        "# **women victim**"
      ]
    },
    {
      "cell_type": "code",
      "metadata": {
        "id": "K5lA-KSFdKIP",
        "colab": {
          "base_uri": "https://localhost:8080/"
        },
        "outputId": "13041856-ef3b-461c-c344-e7c1ff82bab7"
      },
      "source": [
        "dat.columns"
      ],
      "execution_count": null,
      "outputs": [
        {
          "output_type": "execute_result",
          "data": {
            "text/plain": [
              "Index(['S. No', 'Category', 'State/UT', 'Cases Reported', 'Below 6 Years',\n",
              "       '6-12 Years', '12-16 Years', '16-18 Years', 'Total Child Victims',\n",
              "       '18-30 Years', '30-45 Years', '45-60 Years', '60 Years & Above',\n",
              "       'Total Women Victims', 'Total Victims', 'case not reported'],\n",
              "      dtype='object')"
            ]
          },
          "metadata": {
            "tags": []
          },
          "execution_count": 53
        }
      ]
    },
    {
      "cell_type": "code",
      "metadata": {
        "id": "3Elmd4iXdjdA",
        "colab": {
          "base_uri": "https://localhost:8080/"
        },
        "outputId": "ec668fea-ff16-4637-fedc-9d7239c97bc0"
      },
      "source": [
        "dat.iloc[dat['18-30 Years'].idxmax()] #max victim 18-30 up 2313"
      ],
      "execution_count": null,
      "outputs": [
        {
          "output_type": "execute_result",
          "data": {
            "text/plain": [
              "S. No                             27\n",
              "Category                       State\n",
              "State/UT               Uttar Pradesh\n",
              "Cases Reported                  4246\n",
              "Below 6 Years                    105\n",
              "6-12 Years                       190\n",
              "12-16 Years                      713\n",
              "16-18 Years                      552\n",
              "Total Child Victims             1560\n",
              "18-30 Years                     2313\n",
              "30-45 Years                      779\n",
              "45-60 Years                        9\n",
              "60 Years & Above                   8\n",
              "Total Women Victims             3109\n",
              "Total Victims                   4669\n",
              "case not reported                423\n",
              "Name: 26, dtype: object"
            ]
          },
          "metadata": {
            "tags": []
          },
          "execution_count": 54
        }
      ]
    },
    {
      "cell_type": "code",
      "metadata": {
        "id": "pzXEr3aPdjf4",
        "colab": {
          "base_uri": "https://localhost:8080/"
        },
        "outputId": "1193cfa1-bc19-47f5-8663-3248f017db60"
      },
      "source": [
        "dat.iloc[dat['30-45 Years'].idxmax()] #max victim 30-45 up 779"
      ],
      "execution_count": null,
      "outputs": [
        {
          "output_type": "execute_result",
          "data": {
            "text/plain": [
              "S. No                             27\n",
              "Category                       State\n",
              "State/UT               Uttar Pradesh\n",
              "Cases Reported                  4246\n",
              "Below 6 Years                    105\n",
              "6-12 Years                       190\n",
              "12-16 Years                      713\n",
              "16-18 Years                      552\n",
              "Total Child Victims             1560\n",
              "18-30 Years                     2313\n",
              "30-45 Years                      779\n",
              "45-60 Years                        9\n",
              "60 Years & Above                   8\n",
              "Total Women Victims             3109\n",
              "Total Victims                   4669\n",
              "case not reported                423\n",
              "Name: 26, dtype: object"
            ]
          },
          "metadata": {
            "tags": []
          },
          "execution_count": 57
        }
      ]
    },
    {
      "cell_type": "code",
      "metadata": {
        "id": "G72E7dejdjik",
        "colab": {
          "base_uri": "https://localhost:8080/"
        },
        "outputId": "988ea346-64db-4c88-8078-9a0e78fe6117"
      },
      "source": [
        "dat.iloc[dat['45-60 Years'].idxmax()] #max victim 45-60 mp 104"
      ],
      "execution_count": null,
      "outputs": [
        {
          "output_type": "execute_result",
          "data": {
            "text/plain": [
              "S. No                              14\n",
              "Category                        State\n",
              "State/UT               Madhya Pradesh\n",
              "Cases Reported                   5562\n",
              "Below 6 Years                      50\n",
              "6-12 Years                        207\n",
              "12-16 Years                      1275\n",
              "16-18 Years                      1550\n",
              "Total Child Victims              3082\n",
              "18-30 Years                      1651\n",
              "30-45 Years                       716\n",
              "45-60 Years                       104\n",
              "60 Years & Above                   46\n",
              "Total Women Victims              2517\n",
              "Total Victims                    5599\n",
              "case not reported                  37\n",
              "Name: 13, dtype: object"
            ]
          },
          "metadata": {
            "tags": []
          },
          "execution_count": 56
        }
      ]
    },
    {
      "cell_type": "code",
      "metadata": {
        "id": "jbO-c1KsdjlZ",
        "colab": {
          "base_uri": "https://localhost:8080/"
        },
        "outputId": "6852da86-165f-4014-ac11-35abe3b5be42"
      },
      "source": [
        "dat.iloc[dat['60 Years & Above'].idxmax()] #max 60 Years & Above mp 46"
      ],
      "execution_count": null,
      "outputs": [
        {
          "output_type": "execute_result",
          "data": {
            "text/plain": [
              "S. No                              14\n",
              "Category                        State\n",
              "State/UT               Madhya Pradesh\n",
              "Cases Reported                   5562\n",
              "Below 6 Years                      50\n",
              "6-12 Years                        207\n",
              "12-16 Years                      1275\n",
              "16-18 Years                      1550\n",
              "Total Child Victims              3082\n",
              "18-30 Years                      1651\n",
              "30-45 Years                       716\n",
              "45-60 Years                       104\n",
              "60 Years & Above                   46\n",
              "Total Women Victims              2517\n",
              "Total Victims                    5599\n",
              "case not reported                  37\n",
              "Name: 13, dtype: object"
            ]
          },
          "metadata": {
            "tags": []
          },
          "execution_count": 58
        }
      ]
    },
    {
      "cell_type": "code",
      "metadata": {
        "id": "kONkknX8djox",
        "colab": {
          "base_uri": "https://localhost:8080/"
        },
        "outputId": "da18ad78-666b-43a4-e685-aa63aa6d9417"
      },
      "source": [
        "dat.iloc[dat['Total Women Victims'].idxmax()] #max women victims"
      ],
      "execution_count": null,
      "outputs": [
        {
          "output_type": "execute_result",
          "data": {
            "text/plain": [
              "S. No                             27\n",
              "Category                       State\n",
              "State/UT               Uttar Pradesh\n",
              "Cases Reported                  4246\n",
              "Below 6 Years                    105\n",
              "6-12 Years                       190\n",
              "12-16 Years                      713\n",
              "16-18 Years                      552\n",
              "Total Child Victims             1560\n",
              "18-30 Years                     2313\n",
              "30-45 Years                      779\n",
              "45-60 Years                        9\n",
              "60 Years & Above                   8\n",
              "Total Women Victims             3109\n",
              "Total Victims                   4669\n",
              "case not reported                423\n",
              "Name: 26, dtype: object"
            ]
          },
          "metadata": {
            "tags": []
          },
          "execution_count": 59
        }
      ]
    },
    {
      "cell_type": "markdown",
      "metadata": {
        "id": "eGVU682uielG"
      },
      "source": [
        "# **2018 CASE REPORT**"
      ]
    },
    {
      "cell_type": "code",
      "metadata": {
        "id": "CV16YxjYisXG"
      },
      "source": [
        "dat2=pd.read_csv('/content/drive/MyDrive/project-dataset/2018 case study.csv')\n"
      ],
      "execution_count": null,
      "outputs": []
    },
    {
      "cell_type": "code",
      "metadata": {
        "id": "-n1ERgS1iss0",
        "colab": {
          "base_uri": "https://localhost:8080/",
          "height": 1000
        },
        "outputId": "c3ee3128-9bcc-4d17-d45c-866212b56e5b"
      },
      "source": [
        "dat2['case not reported']=dat2['Total Victims']- dat2['Cases Reported'] #created a column of case not reported\n",
        "dat2"
      ],
      "execution_count": null,
      "outputs": [
        {
          "output_type": "execute_result",
          "data": {
            "text/html": [
              "<div>\n",
              "<style scoped>\n",
              "    .dataframe tbody tr th:only-of-type {\n",
              "        vertical-align: middle;\n",
              "    }\n",
              "\n",
              "    .dataframe tbody tr th {\n",
              "        vertical-align: top;\n",
              "    }\n",
              "\n",
              "    .dataframe thead th {\n",
              "        text-align: right;\n",
              "    }\n",
              "</style>\n",
              "<table border=\"1\" class=\"dataframe\">\n",
              "  <thead>\n",
              "    <tr style=\"text-align: right;\">\n",
              "      <th></th>\n",
              "      <th>S. No</th>\n",
              "      <th>Category</th>\n",
              "      <th>State/UT</th>\n",
              "      <th>Cases Reported</th>\n",
              "      <th>Below 6 Years</th>\n",
              "      <th>6-12 Years</th>\n",
              "      <th>12-16 Years</th>\n",
              "      <th>16-18 Years</th>\n",
              "      <th>Total Child Victims</th>\n",
              "      <th>18-30 Years</th>\n",
              "      <th>30-45 Years</th>\n",
              "      <th>45-60 Years</th>\n",
              "      <th>60 Years &amp; Above</th>\n",
              "      <th>Total Women Victims</th>\n",
              "      <th>Total Victims</th>\n",
              "      <th>case not reported</th>\n",
              "    </tr>\n",
              "  </thead>\n",
              "  <tbody>\n",
              "    <tr>\n",
              "      <th>0</th>\n",
              "      <td>1</td>\n",
              "      <td>State</td>\n",
              "      <td>Andhra Pradesh</td>\n",
              "      <td>971</td>\n",
              "      <td>16</td>\n",
              "      <td>57</td>\n",
              "      <td>181</td>\n",
              "      <td>251</td>\n",
              "      <td>505</td>\n",
              "      <td>373</td>\n",
              "      <td>76</td>\n",
              "      <td>14</td>\n",
              "      <td>5</td>\n",
              "      <td>468</td>\n",
              "      <td>973</td>\n",
              "      <td>2</td>\n",
              "    </tr>\n",
              "    <tr>\n",
              "      <th>1</th>\n",
              "      <td>2</td>\n",
              "      <td>State</td>\n",
              "      <td>Arunachal Pradesh</td>\n",
              "      <td>67</td>\n",
              "      <td>4</td>\n",
              "      <td>4</td>\n",
              "      <td>13</td>\n",
              "      <td>11</td>\n",
              "      <td>32</td>\n",
              "      <td>29</td>\n",
              "      <td>9</td>\n",
              "      <td>0</td>\n",
              "      <td>0</td>\n",
              "      <td>38</td>\n",
              "      <td>70</td>\n",
              "      <td>3</td>\n",
              "    </tr>\n",
              "    <tr>\n",
              "      <th>2</th>\n",
              "      <td>3</td>\n",
              "      <td>State</td>\n",
              "      <td>Assam</td>\n",
              "      <td>1648</td>\n",
              "      <td>7</td>\n",
              "      <td>24</td>\n",
              "      <td>6</td>\n",
              "      <td>52</td>\n",
              "      <td>89</td>\n",
              "      <td>1043</td>\n",
              "      <td>523</td>\n",
              "      <td>107</td>\n",
              "      <td>5</td>\n",
              "      <td>1678</td>\n",
              "      <td>1767</td>\n",
              "      <td>119</td>\n",
              "    </tr>\n",
              "    <tr>\n",
              "      <th>3</th>\n",
              "      <td>4</td>\n",
              "      <td>State</td>\n",
              "      <td>Bihar</td>\n",
              "      <td>651</td>\n",
              "      <td>0</td>\n",
              "      <td>0</td>\n",
              "      <td>1</td>\n",
              "      <td>3</td>\n",
              "      <td>4</td>\n",
              "      <td>520</td>\n",
              "      <td>111</td>\n",
              "      <td>16</td>\n",
              "      <td>0</td>\n",
              "      <td>647</td>\n",
              "      <td>651</td>\n",
              "      <td>0</td>\n",
              "    </tr>\n",
              "    <tr>\n",
              "      <th>4</th>\n",
              "      <td>5</td>\n",
              "      <td>State</td>\n",
              "      <td>Chhattisgarh</td>\n",
              "      <td>2091</td>\n",
              "      <td>41</td>\n",
              "      <td>80</td>\n",
              "      <td>557</td>\n",
              "      <td>541</td>\n",
              "      <td>1219</td>\n",
              "      <td>644</td>\n",
              "      <td>190</td>\n",
              "      <td>42</td>\n",
              "      <td>6</td>\n",
              "      <td>882</td>\n",
              "      <td>2101</td>\n",
              "      <td>10</td>\n",
              "    </tr>\n",
              "    <tr>\n",
              "      <th>5</th>\n",
              "      <td>6</td>\n",
              "      <td>State</td>\n",
              "      <td>Goa</td>\n",
              "      <td>61</td>\n",
              "      <td>0</td>\n",
              "      <td>1</td>\n",
              "      <td>21</td>\n",
              "      <td>12</td>\n",
              "      <td>34</td>\n",
              "      <td>13</td>\n",
              "      <td>11</td>\n",
              "      <td>2</td>\n",
              "      <td>1</td>\n",
              "      <td>27</td>\n",
              "      <td>61</td>\n",
              "      <td>0</td>\n",
              "    </tr>\n",
              "    <tr>\n",
              "      <th>6</th>\n",
              "      <td>7</td>\n",
              "      <td>State</td>\n",
              "      <td>Gujarat</td>\n",
              "      <td>553</td>\n",
              "      <td>0</td>\n",
              "      <td>0</td>\n",
              "      <td>3</td>\n",
              "      <td>4</td>\n",
              "      <td>7</td>\n",
              "      <td>389</td>\n",
              "      <td>144</td>\n",
              "      <td>12</td>\n",
              "      <td>1</td>\n",
              "      <td>546</td>\n",
              "      <td>553</td>\n",
              "      <td>0</td>\n",
              "    </tr>\n",
              "    <tr>\n",
              "      <th>7</th>\n",
              "      <td>8</td>\n",
              "      <td>State</td>\n",
              "      <td>Haryana</td>\n",
              "      <td>1296</td>\n",
              "      <td>2</td>\n",
              "      <td>0</td>\n",
              "      <td>0</td>\n",
              "      <td>0</td>\n",
              "      <td>2</td>\n",
              "      <td>969</td>\n",
              "      <td>300</td>\n",
              "      <td>22</td>\n",
              "      <td>3</td>\n",
              "      <td>1294</td>\n",
              "      <td>1296</td>\n",
              "      <td>0</td>\n",
              "    </tr>\n",
              "    <tr>\n",
              "      <th>8</th>\n",
              "      <td>9</td>\n",
              "      <td>State</td>\n",
              "      <td>Himachal Pradesh</td>\n",
              "      <td>344</td>\n",
              "      <td>2</td>\n",
              "      <td>25</td>\n",
              "      <td>85</td>\n",
              "      <td>84</td>\n",
              "      <td>196</td>\n",
              "      <td>101</td>\n",
              "      <td>45</td>\n",
              "      <td>6</td>\n",
              "      <td>1</td>\n",
              "      <td>153</td>\n",
              "      <td>349</td>\n",
              "      <td>5</td>\n",
              "    </tr>\n",
              "    <tr>\n",
              "      <th>9</th>\n",
              "      <td>10</td>\n",
              "      <td>State</td>\n",
              "      <td>Jammu &amp; Kashmir</td>\n",
              "      <td>320</td>\n",
              "      <td>0</td>\n",
              "      <td>6</td>\n",
              "      <td>18</td>\n",
              "      <td>18</td>\n",
              "      <td>42</td>\n",
              "      <td>172</td>\n",
              "      <td>109</td>\n",
              "      <td>5</td>\n",
              "      <td>0</td>\n",
              "      <td>286</td>\n",
              "      <td>328</td>\n",
              "      <td>8</td>\n",
              "    </tr>\n",
              "    <tr>\n",
              "      <th>10</th>\n",
              "      <td>11</td>\n",
              "      <td>State</td>\n",
              "      <td>Jharkhand</td>\n",
              "      <td>1090</td>\n",
              "      <td>0</td>\n",
              "      <td>0</td>\n",
              "      <td>6</td>\n",
              "      <td>63</td>\n",
              "      <td>69</td>\n",
              "      <td>798</td>\n",
              "      <td>217</td>\n",
              "      <td>14</td>\n",
              "      <td>0</td>\n",
              "      <td>1029</td>\n",
              "      <td>1098</td>\n",
              "      <td>8</td>\n",
              "    </tr>\n",
              "    <tr>\n",
              "      <th>11</th>\n",
              "      <td>12</td>\n",
              "      <td>State</td>\n",
              "      <td>Karnataka</td>\n",
              "      <td>492</td>\n",
              "      <td>0</td>\n",
              "      <td>0</td>\n",
              "      <td>2</td>\n",
              "      <td>2</td>\n",
              "      <td>4</td>\n",
              "      <td>369</td>\n",
              "      <td>120</td>\n",
              "      <td>3</td>\n",
              "      <td>1</td>\n",
              "      <td>493</td>\n",
              "      <td>497</td>\n",
              "      <td>5</td>\n",
              "    </tr>\n",
              "    <tr>\n",
              "      <th>12</th>\n",
              "      <td>13</td>\n",
              "      <td>State</td>\n",
              "      <td>Kerala</td>\n",
              "      <td>1945</td>\n",
              "      <td>48</td>\n",
              "      <td>129</td>\n",
              "      <td>334</td>\n",
              "      <td>645</td>\n",
              "      <td>1156</td>\n",
              "      <td>465</td>\n",
              "      <td>294</td>\n",
              "      <td>43</td>\n",
              "      <td>14</td>\n",
              "      <td>816</td>\n",
              "      <td>1972</td>\n",
              "      <td>27</td>\n",
              "    </tr>\n",
              "    <tr>\n",
              "      <th>13</th>\n",
              "      <td>14</td>\n",
              "      <td>State</td>\n",
              "      <td>Madhya Pradesh</td>\n",
              "      <td>5433</td>\n",
              "      <td>54</td>\n",
              "      <td>142</td>\n",
              "      <td>1143</td>\n",
              "      <td>1502</td>\n",
              "      <td>2841</td>\n",
              "      <td>1798</td>\n",
              "      <td>725</td>\n",
              "      <td>75</td>\n",
              "      <td>11</td>\n",
              "      <td>2609</td>\n",
              "      <td>5450</td>\n",
              "      <td>17</td>\n",
              "    </tr>\n",
              "    <tr>\n",
              "      <th>14</th>\n",
              "      <td>15</td>\n",
              "      <td>State</td>\n",
              "      <td>Maharashtra</td>\n",
              "      <td>2142</td>\n",
              "      <td>0</td>\n",
              "      <td>0</td>\n",
              "      <td>0</td>\n",
              "      <td>0</td>\n",
              "      <td>0</td>\n",
              "      <td>1524</td>\n",
              "      <td>552</td>\n",
              "      <td>62</td>\n",
              "      <td>11</td>\n",
              "      <td>2149</td>\n",
              "      <td>2149</td>\n",
              "      <td>7</td>\n",
              "    </tr>\n",
              "    <tr>\n",
              "      <th>15</th>\n",
              "      <td>16</td>\n",
              "      <td>State</td>\n",
              "      <td>Manipur</td>\n",
              "      <td>52</td>\n",
              "      <td>0</td>\n",
              "      <td>1</td>\n",
              "      <td>7</td>\n",
              "      <td>9</td>\n",
              "      <td>17</td>\n",
              "      <td>27</td>\n",
              "      <td>7</td>\n",
              "      <td>1</td>\n",
              "      <td>0</td>\n",
              "      <td>35</td>\n",
              "      <td>52</td>\n",
              "      <td>0</td>\n",
              "    </tr>\n",
              "    <tr>\n",
              "      <th>16</th>\n",
              "      <td>17</td>\n",
              "      <td>State</td>\n",
              "      <td>Meghalaya</td>\n",
              "      <td>87</td>\n",
              "      <td>0</td>\n",
              "      <td>4</td>\n",
              "      <td>6</td>\n",
              "      <td>15</td>\n",
              "      <td>25</td>\n",
              "      <td>49</td>\n",
              "      <td>14</td>\n",
              "      <td>1</td>\n",
              "      <td>0</td>\n",
              "      <td>64</td>\n",
              "      <td>89</td>\n",
              "      <td>2</td>\n",
              "    </tr>\n",
              "    <tr>\n",
              "      <th>17</th>\n",
              "      <td>18</td>\n",
              "      <td>State</td>\n",
              "      <td>Mizoram</td>\n",
              "      <td>50</td>\n",
              "      <td>2</td>\n",
              "      <td>12</td>\n",
              "      <td>8</td>\n",
              "      <td>1</td>\n",
              "      <td>23</td>\n",
              "      <td>20</td>\n",
              "      <td>5</td>\n",
              "      <td>1</td>\n",
              "      <td>1</td>\n",
              "      <td>27</td>\n",
              "      <td>50</td>\n",
              "      <td>0</td>\n",
              "    </tr>\n",
              "    <tr>\n",
              "      <th>18</th>\n",
              "      <td>19</td>\n",
              "      <td>State</td>\n",
              "      <td>Nagaland</td>\n",
              "      <td>10</td>\n",
              "      <td>0</td>\n",
              "      <td>0</td>\n",
              "      <td>1</td>\n",
              "      <td>2</td>\n",
              "      <td>3</td>\n",
              "      <td>5</td>\n",
              "      <td>1</td>\n",
              "      <td>1</td>\n",
              "      <td>1</td>\n",
              "      <td>8</td>\n",
              "      <td>11</td>\n",
              "      <td>1</td>\n",
              "    </tr>\n",
              "    <tr>\n",
              "      <th>19</th>\n",
              "      <td>20</td>\n",
              "      <td>State</td>\n",
              "      <td>Odisha</td>\n",
              "      <td>918</td>\n",
              "      <td>0</td>\n",
              "      <td>0</td>\n",
              "      <td>10</td>\n",
              "      <td>27</td>\n",
              "      <td>37</td>\n",
              "      <td>835</td>\n",
              "      <td>47</td>\n",
              "      <td>4</td>\n",
              "      <td>0</td>\n",
              "      <td>886</td>\n",
              "      <td>923</td>\n",
              "      <td>5</td>\n",
              "    </tr>\n",
              "    <tr>\n",
              "      <th>20</th>\n",
              "      <td>21</td>\n",
              "      <td>State</td>\n",
              "      <td>Punjab</td>\n",
              "      <td>831</td>\n",
              "      <td>10</td>\n",
              "      <td>30</td>\n",
              "      <td>151</td>\n",
              "      <td>139</td>\n",
              "      <td>330</td>\n",
              "      <td>381</td>\n",
              "      <td>108</td>\n",
              "      <td>15</td>\n",
              "      <td>3</td>\n",
              "      <td>507</td>\n",
              "      <td>837</td>\n",
              "      <td>6</td>\n",
              "    </tr>\n",
              "    <tr>\n",
              "      <th>21</th>\n",
              "      <td>22</td>\n",
              "      <td>State</td>\n",
              "      <td>Rajasthan</td>\n",
              "      <td>4335</td>\n",
              "      <td>17</td>\n",
              "      <td>48</td>\n",
              "      <td>392</td>\n",
              "      <td>575</td>\n",
              "      <td>1032</td>\n",
              "      <td>2263</td>\n",
              "      <td>912</td>\n",
              "      <td>129</td>\n",
              "      <td>1</td>\n",
              "      <td>3305</td>\n",
              "      <td>4337</td>\n",
              "      <td>2</td>\n",
              "    </tr>\n",
              "    <tr>\n",
              "      <th>22</th>\n",
              "      <td>23</td>\n",
              "      <td>State</td>\n",
              "      <td>Sikkim</td>\n",
              "      <td>16</td>\n",
              "      <td>0</td>\n",
              "      <td>0</td>\n",
              "      <td>0</td>\n",
              "      <td>4</td>\n",
              "      <td>4</td>\n",
              "      <td>5</td>\n",
              "      <td>4</td>\n",
              "      <td>3</td>\n",
              "      <td>0</td>\n",
              "      <td>12</td>\n",
              "      <td>16</td>\n",
              "      <td>0</td>\n",
              "    </tr>\n",
              "    <tr>\n",
              "      <th>23</th>\n",
              "      <td>24</td>\n",
              "      <td>State</td>\n",
              "      <td>Tamil Nadu</td>\n",
              "      <td>331</td>\n",
              "      <td>1</td>\n",
              "      <td>1</td>\n",
              "      <td>1</td>\n",
              "      <td>3</td>\n",
              "      <td>6</td>\n",
              "      <td>256</td>\n",
              "      <td>63</td>\n",
              "      <td>6</td>\n",
              "      <td>1</td>\n",
              "      <td>326</td>\n",
              "      <td>332</td>\n",
              "      <td>1</td>\n",
              "    </tr>\n",
              "    <tr>\n",
              "      <th>24</th>\n",
              "      <td>25</td>\n",
              "      <td>State</td>\n",
              "      <td>Telangana</td>\n",
              "      <td>606</td>\n",
              "      <td>0</td>\n",
              "      <td>0</td>\n",
              "      <td>0</td>\n",
              "      <td>0</td>\n",
              "      <td>0</td>\n",
              "      <td>465</td>\n",
              "      <td>123</td>\n",
              "      <td>17</td>\n",
              "      <td>1</td>\n",
              "      <td>606</td>\n",
              "      <td>606</td>\n",
              "      <td>0</td>\n",
              "    </tr>\n",
              "    <tr>\n",
              "      <th>25</th>\n",
              "      <td>26</td>\n",
              "      <td>State</td>\n",
              "      <td>Tripura</td>\n",
              "      <td>97</td>\n",
              "      <td>0</td>\n",
              "      <td>0</td>\n",
              "      <td>0</td>\n",
              "      <td>0</td>\n",
              "      <td>0</td>\n",
              "      <td>73</td>\n",
              "      <td>21</td>\n",
              "      <td>3</td>\n",
              "      <td>0</td>\n",
              "      <td>97</td>\n",
              "      <td>97</td>\n",
              "      <td>0</td>\n",
              "    </tr>\n",
              "    <tr>\n",
              "      <th>26</th>\n",
              "      <td>27</td>\n",
              "      <td>State</td>\n",
              "      <td>Uttar Pradesh</td>\n",
              "      <td>3946</td>\n",
              "      <td>67</td>\n",
              "      <td>174</td>\n",
              "      <td>570</td>\n",
              "      <td>600</td>\n",
              "      <td>1411</td>\n",
              "      <td>2235</td>\n",
              "      <td>603</td>\n",
              "      <td>70</td>\n",
              "      <td>3</td>\n",
              "      <td>2911</td>\n",
              "      <td>4322</td>\n",
              "      <td>376</td>\n",
              "    </tr>\n",
              "    <tr>\n",
              "      <th>27</th>\n",
              "      <td>28</td>\n",
              "      <td>State</td>\n",
              "      <td>Uttarakhand</td>\n",
              "      <td>561</td>\n",
              "      <td>3</td>\n",
              "      <td>5</td>\n",
              "      <td>79</td>\n",
              "      <td>186</td>\n",
              "      <td>273</td>\n",
              "      <td>194</td>\n",
              "      <td>101</td>\n",
              "      <td>8</td>\n",
              "      <td>0</td>\n",
              "      <td>303</td>\n",
              "      <td>576</td>\n",
              "      <td>15</td>\n",
              "    </tr>\n",
              "    <tr>\n",
              "      <th>28</th>\n",
              "      <td>29</td>\n",
              "      <td>State</td>\n",
              "      <td>West Bengal</td>\n",
              "      <td>1069</td>\n",
              "      <td>0</td>\n",
              "      <td>0</td>\n",
              "      <td>1</td>\n",
              "      <td>3</td>\n",
              "      <td>4</td>\n",
              "      <td>736</td>\n",
              "      <td>310</td>\n",
              "      <td>18</td>\n",
              "      <td>1</td>\n",
              "      <td>1065</td>\n",
              "      <td>1069</td>\n",
              "      <td>0</td>\n",
              "    </tr>\n",
              "    <tr>\n",
              "      <th>29</th>\n",
              "      <td>30</td>\n",
              "      <td>Union Territory</td>\n",
              "      <td>A &amp; N Islands</td>\n",
              "      <td>30</td>\n",
              "      <td>0</td>\n",
              "      <td>1</td>\n",
              "      <td>3</td>\n",
              "      <td>10</td>\n",
              "      <td>14</td>\n",
              "      <td>12</td>\n",
              "      <td>3</td>\n",
              "      <td>1</td>\n",
              "      <td>0</td>\n",
              "      <td>16</td>\n",
              "      <td>30</td>\n",
              "      <td>0</td>\n",
              "    </tr>\n",
              "    <tr>\n",
              "      <th>30</th>\n",
              "      <td>31</td>\n",
              "      <td>Union Territory</td>\n",
              "      <td>Chandigarh</td>\n",
              "      <td>86</td>\n",
              "      <td>7</td>\n",
              "      <td>13</td>\n",
              "      <td>16</td>\n",
              "      <td>17</td>\n",
              "      <td>53</td>\n",
              "      <td>14</td>\n",
              "      <td>12</td>\n",
              "      <td>7</td>\n",
              "      <td>0</td>\n",
              "      <td>33</td>\n",
              "      <td>86</td>\n",
              "      <td>0</td>\n",
              "    </tr>\n",
              "    <tr>\n",
              "      <th>31</th>\n",
              "      <td>32</td>\n",
              "      <td>Union Territory</td>\n",
              "      <td>D&amp;N Haveli</td>\n",
              "      <td>7</td>\n",
              "      <td>0</td>\n",
              "      <td>0</td>\n",
              "      <td>0</td>\n",
              "      <td>0</td>\n",
              "      <td>0</td>\n",
              "      <td>6</td>\n",
              "      <td>1</td>\n",
              "      <td>0</td>\n",
              "      <td>0</td>\n",
              "      <td>7</td>\n",
              "      <td>7</td>\n",
              "      <td>0</td>\n",
              "    </tr>\n",
              "    <tr>\n",
              "      <th>32</th>\n",
              "      <td>33</td>\n",
              "      <td>Union Territory</td>\n",
              "      <td>Daman &amp; Diu</td>\n",
              "      <td>3</td>\n",
              "      <td>0</td>\n",
              "      <td>0</td>\n",
              "      <td>1</td>\n",
              "      <td>0</td>\n",
              "      <td>1</td>\n",
              "      <td>2</td>\n",
              "      <td>0</td>\n",
              "      <td>0</td>\n",
              "      <td>0</td>\n",
              "      <td>2</td>\n",
              "      <td>3</td>\n",
              "      <td>0</td>\n",
              "    </tr>\n",
              "    <tr>\n",
              "      <th>33</th>\n",
              "      <td>34</td>\n",
              "      <td>Union Territory</td>\n",
              "      <td>Delhi UT</td>\n",
              "      <td>1215</td>\n",
              "      <td>0</td>\n",
              "      <td>0</td>\n",
              "      <td>0</td>\n",
              "      <td>0</td>\n",
              "      <td>0</td>\n",
              "      <td>851</td>\n",
              "      <td>345</td>\n",
              "      <td>19</td>\n",
              "      <td>2</td>\n",
              "      <td>1217</td>\n",
              "      <td>1217</td>\n",
              "      <td>2</td>\n",
              "    </tr>\n",
              "    <tr>\n",
              "      <th>34</th>\n",
              "      <td>35</td>\n",
              "      <td>Union Territory</td>\n",
              "      <td>Lakshadweep</td>\n",
              "      <td>2</td>\n",
              "      <td>0</td>\n",
              "      <td>0</td>\n",
              "      <td>0</td>\n",
              "      <td>0</td>\n",
              "      <td>0</td>\n",
              "      <td>0</td>\n",
              "      <td>2</td>\n",
              "      <td>0</td>\n",
              "      <td>0</td>\n",
              "      <td>2</td>\n",
              "      <td>2</td>\n",
              "      <td>0</td>\n",
              "    </tr>\n",
              "    <tr>\n",
              "      <th>35</th>\n",
              "      <td>36</td>\n",
              "      <td>Union Territory</td>\n",
              "      <td>Puducherry</td>\n",
              "      <td>0</td>\n",
              "      <td>0</td>\n",
              "      <td>0</td>\n",
              "      <td>0</td>\n",
              "      <td>0</td>\n",
              "      <td>0</td>\n",
              "      <td>0</td>\n",
              "      <td>0</td>\n",
              "      <td>0</td>\n",
              "      <td>0</td>\n",
              "      <td>0</td>\n",
              "      <td>0</td>\n",
              "      <td>0</td>\n",
              "    </tr>\n",
              "  </tbody>\n",
              "</table>\n",
              "</div>"
            ],
            "text/plain": [
              "    S. No         Category  ... Total Victims  case not reported\n",
              "0       1            State  ...           973                  2\n",
              "1       2            State  ...            70                  3\n",
              "2       3            State  ...          1767                119\n",
              "3       4            State  ...           651                  0\n",
              "4       5            State  ...          2101                 10\n",
              "5       6            State  ...            61                  0\n",
              "6       7            State  ...           553                  0\n",
              "7       8            State  ...          1296                  0\n",
              "8       9            State  ...           349                  5\n",
              "9      10            State  ...           328                  8\n",
              "10     11            State  ...          1098                  8\n",
              "11     12            State  ...           497                  5\n",
              "12     13            State  ...          1972                 27\n",
              "13     14            State  ...          5450                 17\n",
              "14     15            State  ...          2149                  7\n",
              "15     16            State  ...            52                  0\n",
              "16     17            State  ...            89                  2\n",
              "17     18            State  ...            50                  0\n",
              "18     19            State  ...            11                  1\n",
              "19     20            State  ...           923                  5\n",
              "20     21            State  ...           837                  6\n",
              "21     22            State  ...          4337                  2\n",
              "22     23            State  ...            16                  0\n",
              "23     24            State  ...           332                  1\n",
              "24     25            State  ...           606                  0\n",
              "25     26            State  ...            97                  0\n",
              "26     27            State  ...          4322                376\n",
              "27     28            State  ...           576                 15\n",
              "28     29            State  ...          1069                  0\n",
              "29     30  Union Territory  ...            30                  0\n",
              "30     31  Union Territory  ...            86                  0\n",
              "31     32  Union Territory  ...             7                  0\n",
              "32     33  Union Territory  ...             3                  0\n",
              "33     34  Union Territory  ...          1217                  2\n",
              "34     35  Union Territory  ...             2                  0\n",
              "35     36  Union Territory  ...             0                  0\n",
              "\n",
              "[36 rows x 16 columns]"
            ]
          },
          "metadata": {
            "tags": []
          },
          "execution_count": 11
        }
      ]
    },
    {
      "cell_type": "code",
      "metadata": {
        "colab": {
          "base_uri": "https://localhost:8080/"
        },
        "id": "6Kl-8a0visv1",
        "outputId": "d5db45dd-b635-4451-80a6-53f387a67c12"
      },
      "source": [
        "dat2.columns"
      ],
      "execution_count": null,
      "outputs": [
        {
          "output_type": "execute_result",
          "data": {
            "text/plain": [
              "Index(['S. No', 'Category', 'State/UT ', 'Cases Reported', 'Below 6 Years',\n",
              "       '6-12 Years ', '12-16 Years ', '16-18 Years', 'Total Child Victims',\n",
              "       '18-30 Years', '30-45 Years', '45-60 Years', '60 Years & Above',\n",
              "       'Total Women Victims', 'Total Victims', 'case not reported'],\n",
              "      dtype='object')"
            ]
          },
          "metadata": {
            "tags": []
          },
          "execution_count": 28
        }
      ]
    },
    {
      "cell_type": "code",
      "metadata": {
        "id": "UHNS80XCisys",
        "colab": {
          "base_uri": "https://localhost:8080/"
        },
        "outputId": "be4cfc33-46ad-4bc9-ee34-442a2d5a70e8"
      },
      "source": [
        "dat2['Total Victims'].sum() #total  victims"
      ],
      "execution_count": null,
      "outputs": [
        {
          "output_type": "execute_result",
          "data": {
            "text/plain": [
              "33977"
            ]
          },
          "metadata": {
            "tags": []
          },
          "execution_count": 61
        }
      ]
    },
    {
      "cell_type": "code",
      "metadata": {
        "id": "gdC5GijNis1N",
        "colab": {
          "base_uri": "https://localhost:8080/"
        },
        "outputId": "a42d684d-53cf-4f7b-ade4-b7ede5accc17"
      },
      "source": [
        "dat2['Total Child Victims'].sum() #total child victims"
      ],
      "execution_count": null,
      "outputs": [
        {
          "output_type": "execute_result",
          "data": {
            "text/plain": [
              "9433"
            ]
          },
          "metadata": {
            "tags": []
          },
          "execution_count": 62
        }
      ]
    },
    {
      "cell_type": "code",
      "metadata": {
        "id": "oOrSDyR1is4m",
        "colab": {
          "base_uri": "https://localhost:8080/"
        },
        "outputId": "f9e2827a-33a7-4012-b107-50bbb18c4061"
      },
      "source": [
        "dat2['Total Women Victims'].sum() #total women victims"
      ],
      "execution_count": null,
      "outputs": [
        {
          "output_type": "execute_result",
          "data": {
            "text/plain": [
              "24544"
            ]
          },
          "metadata": {
            "tags": []
          },
          "execution_count": 63
        }
      ]
    },
    {
      "cell_type": "code",
      "metadata": {
        "id": "BAP16MBFis-y",
        "colab": {
          "base_uri": "https://localhost:8080/"
        },
        "outputId": "fde159aa-e641-47af-b2dd-9d13fe06e1c0"
      },
      "source": [
        "dat2['Cases Reported'].sum() #total  case reported"
      ],
      "execution_count": null,
      "outputs": [
        {
          "output_type": "execute_result",
          "data": {
            "text/plain": [
              "33356"
            ]
          },
          "metadata": {
            "tags": []
          },
          "execution_count": 66
        }
      ]
    },
    {
      "cell_type": "code",
      "metadata": {
        "id": "bt-hUzM_itBE",
        "colab": {
          "base_uri": "https://localhost:8080/",
          "height": 148
        },
        "outputId": "ce89a6bf-be00-4650-c0c6-4a51f921d5d2"
      },
      "source": [
        "dat2[dat2['Total Victims']==0] #lwest victim puducherry 0"
      ],
      "execution_count": null,
      "outputs": [
        {
          "output_type": "execute_result",
          "data": {
            "text/html": [
              "<div>\n",
              "<style scoped>\n",
              "    .dataframe tbody tr th:only-of-type {\n",
              "        vertical-align: middle;\n",
              "    }\n",
              "\n",
              "    .dataframe tbody tr th {\n",
              "        vertical-align: top;\n",
              "    }\n",
              "\n",
              "    .dataframe thead th {\n",
              "        text-align: right;\n",
              "    }\n",
              "</style>\n",
              "<table border=\"1\" class=\"dataframe\">\n",
              "  <thead>\n",
              "    <tr style=\"text-align: right;\">\n",
              "      <th></th>\n",
              "      <th>S. No</th>\n",
              "      <th>Category</th>\n",
              "      <th>State/UT</th>\n",
              "      <th>Cases Reported</th>\n",
              "      <th>Below 6 Years</th>\n",
              "      <th>6-12 Years</th>\n",
              "      <th>12-16 Years</th>\n",
              "      <th>16-18 Years</th>\n",
              "      <th>Total Child Victims</th>\n",
              "      <th>18-30 Years</th>\n",
              "      <th>30-45 Years</th>\n",
              "      <th>45-60 Years</th>\n",
              "      <th>60 Years &amp; Above</th>\n",
              "      <th>Total Women Victims</th>\n",
              "      <th>Total Victims</th>\n",
              "    </tr>\n",
              "  </thead>\n",
              "  <tbody>\n",
              "    <tr>\n",
              "      <th>35</th>\n",
              "      <td>36</td>\n",
              "      <td>Union Territory</td>\n",
              "      <td>Puducherry</td>\n",
              "      <td>0</td>\n",
              "      <td>0</td>\n",
              "      <td>0</td>\n",
              "      <td>0</td>\n",
              "      <td>0</td>\n",
              "      <td>0</td>\n",
              "      <td>0</td>\n",
              "      <td>0</td>\n",
              "      <td>0</td>\n",
              "      <td>0</td>\n",
              "      <td>0</td>\n",
              "      <td>0</td>\n",
              "    </tr>\n",
              "  </tbody>\n",
              "</table>\n",
              "</div>"
            ],
            "text/plain": [
              "    S. No         Category  ... Total Women Victims  Total Victims\n",
              "35     36  Union Territory  ...                   0              0\n",
              "\n",
              "[1 rows x 15 columns]"
            ]
          },
          "metadata": {
            "tags": []
          },
          "execution_count": 67
        }
      ]
    },
    {
      "cell_type": "code",
      "metadata": {
        "id": "0PY4XSs2itEt",
        "colab": {
          "base_uri": "https://localhost:8080/"
        },
        "outputId": "a6299e39-0e4b-422d-95f5-b7c1f49050f2"
      },
      "source": [
        "dat2.iloc[dat2['Total Victims'].idxmin()] #highest victim mp  5450"
      ],
      "execution_count": null,
      "outputs": [
        {
          "output_type": "execute_result",
          "data": {
            "text/plain": [
              "S. No                               36\n",
              "Category               Union Territory\n",
              "State/UT                    Puducherry\n",
              "Cases Reported                       0\n",
              "Below 6 Years                        0\n",
              "6-12 Years                           0\n",
              "12-16 Years                          0\n",
              "16-18 Years                          0\n",
              "Total Child Victims                  0\n",
              "18-30 Years                          0\n",
              "30-45 Years                          0\n",
              "45-60 Years                          0\n",
              "60 Years & Above                     0\n",
              "Total Women Victims                  0\n",
              "Total Victims                        0\n",
              "Name: 35, dtype: object"
            ]
          },
          "metadata": {
            "tags": []
          },
          "execution_count": 68
        }
      ]
    },
    {
      "cell_type": "code",
      "metadata": {
        "id": "sXEAb6lJNgVj"
      },
      "source": [
        "dat2.iloc[dat2['case not reported'].idxmax()] #highest case nt rep up 376"
      ],
      "execution_count": null,
      "outputs": []
    },
    {
      "cell_type": "code",
      "metadata": {
        "id": "3zTphT-2J7xT",
        "colab": {
          "base_uri": "https://localhost:8080/"
        },
        "outputId": "7dda1162-50de-4f8d-801b-0ba1de4e111c"
      },
      "source": [
        "dat2.iloc[dat2['Total Child Victims'].idxmax()] #highest child victim  2841 mp"
      ],
      "execution_count": null,
      "outputs": [
        {
          "output_type": "execute_result",
          "data": {
            "text/plain": [
              "S. No                              14\n",
              "Category                        State\n",
              "State/UT               Madhya Pradesh\n",
              "Cases Reported                   5433\n",
              "Below 6 Years                      54\n",
              "6-12 Years                        142\n",
              "12-16 Years                      1143\n",
              "16-18 Years                      1502\n",
              "Total Child Victims              2841\n",
              "18-30 Years                      1798\n",
              "30-45 Years                       725\n",
              "45-60 Years                        75\n",
              "60 Years & Above                   11\n",
              "Total Women Victims              2609\n",
              "Total Victims                    5450\n",
              "Name: 13, dtype: object"
            ]
          },
          "metadata": {
            "tags": []
          },
          "execution_count": 69
        }
      ]
    },
    {
      "cell_type": "code",
      "metadata": {
        "id": "5f5UmUtNKTAN",
        "colab": {
          "base_uri": "https://localhost:8080/"
        },
        "outputId": "56841e93-83d3-4846-e90d-e34e6a785217"
      },
      "source": [
        "dat2.iloc[dat2['Total Women Victims'].idxmax()] #highest women victim rajasthan 3305"
      ],
      "execution_count": null,
      "outputs": [
        {
          "output_type": "execute_result",
          "data": {
            "text/plain": [
              "S. No                         22\n",
              "Category                   State\n",
              "State/UT               Rajasthan\n",
              "Cases Reported              4335\n",
              "Below 6 Years                 17\n",
              "6-12 Years                    48\n",
              "12-16 Years                  392\n",
              "16-18 Years                  575\n",
              "Total Child Victims         1032\n",
              "18-30 Years                 2263\n",
              "30-45 Years                  912\n",
              "45-60 Years                  129\n",
              "60 Years & Above               1\n",
              "Total Women Victims         3305\n",
              "Total Victims               4337\n",
              "Name: 21, dtype: object"
            ]
          },
          "metadata": {
            "tags": []
          },
          "execution_count": 70
        }
      ]
    },
    {
      "cell_type": "code",
      "metadata": {
        "id": "XVQyl4U3KfUn",
        "colab": {
          "base_uri": "https://localhost:8080/",
          "height": 384
        },
        "outputId": "0ecd2c0a-608e-4384-b7b7-9c5bd3020aab"
      },
      "source": [
        "dat2[dat2['Total Child Victims']==0] #child victim =0 maha,tel,tripura,d&n,delhi,lakshadweep,puducherry"
      ],
      "execution_count": null,
      "outputs": [
        {
          "output_type": "execute_result",
          "data": {
            "text/html": [
              "<div>\n",
              "<style scoped>\n",
              "    .dataframe tbody tr th:only-of-type {\n",
              "        vertical-align: middle;\n",
              "    }\n",
              "\n",
              "    .dataframe tbody tr th {\n",
              "        vertical-align: top;\n",
              "    }\n",
              "\n",
              "    .dataframe thead th {\n",
              "        text-align: right;\n",
              "    }\n",
              "</style>\n",
              "<table border=\"1\" class=\"dataframe\">\n",
              "  <thead>\n",
              "    <tr style=\"text-align: right;\">\n",
              "      <th></th>\n",
              "      <th>S. No</th>\n",
              "      <th>Category</th>\n",
              "      <th>State/UT</th>\n",
              "      <th>Cases Reported</th>\n",
              "      <th>Below 6 Years</th>\n",
              "      <th>6-12 Years</th>\n",
              "      <th>12-16 Years</th>\n",
              "      <th>16-18 Years</th>\n",
              "      <th>Total Child Victims</th>\n",
              "      <th>18-30 Years</th>\n",
              "      <th>30-45 Years</th>\n",
              "      <th>45-60 Years</th>\n",
              "      <th>60 Years &amp; Above</th>\n",
              "      <th>Total Women Victims</th>\n",
              "      <th>Total Victims</th>\n",
              "    </tr>\n",
              "  </thead>\n",
              "  <tbody>\n",
              "    <tr>\n",
              "      <th>14</th>\n",
              "      <td>15</td>\n",
              "      <td>State</td>\n",
              "      <td>Maharashtra</td>\n",
              "      <td>2142</td>\n",
              "      <td>0</td>\n",
              "      <td>0</td>\n",
              "      <td>0</td>\n",
              "      <td>0</td>\n",
              "      <td>0</td>\n",
              "      <td>1524</td>\n",
              "      <td>552</td>\n",
              "      <td>62</td>\n",
              "      <td>11</td>\n",
              "      <td>2149</td>\n",
              "      <td>2149</td>\n",
              "    </tr>\n",
              "    <tr>\n",
              "      <th>24</th>\n",
              "      <td>25</td>\n",
              "      <td>State</td>\n",
              "      <td>Telangana</td>\n",
              "      <td>606</td>\n",
              "      <td>0</td>\n",
              "      <td>0</td>\n",
              "      <td>0</td>\n",
              "      <td>0</td>\n",
              "      <td>0</td>\n",
              "      <td>465</td>\n",
              "      <td>123</td>\n",
              "      <td>17</td>\n",
              "      <td>1</td>\n",
              "      <td>606</td>\n",
              "      <td>606</td>\n",
              "    </tr>\n",
              "    <tr>\n",
              "      <th>25</th>\n",
              "      <td>26</td>\n",
              "      <td>State</td>\n",
              "      <td>Tripura</td>\n",
              "      <td>97</td>\n",
              "      <td>0</td>\n",
              "      <td>0</td>\n",
              "      <td>0</td>\n",
              "      <td>0</td>\n",
              "      <td>0</td>\n",
              "      <td>73</td>\n",
              "      <td>21</td>\n",
              "      <td>3</td>\n",
              "      <td>0</td>\n",
              "      <td>97</td>\n",
              "      <td>97</td>\n",
              "    </tr>\n",
              "    <tr>\n",
              "      <th>31</th>\n",
              "      <td>32</td>\n",
              "      <td>Union Territory</td>\n",
              "      <td>D&amp;N Haveli</td>\n",
              "      <td>7</td>\n",
              "      <td>0</td>\n",
              "      <td>0</td>\n",
              "      <td>0</td>\n",
              "      <td>0</td>\n",
              "      <td>0</td>\n",
              "      <td>6</td>\n",
              "      <td>1</td>\n",
              "      <td>0</td>\n",
              "      <td>0</td>\n",
              "      <td>7</td>\n",
              "      <td>7</td>\n",
              "    </tr>\n",
              "    <tr>\n",
              "      <th>33</th>\n",
              "      <td>34</td>\n",
              "      <td>Union Territory</td>\n",
              "      <td>Delhi UT</td>\n",
              "      <td>1215</td>\n",
              "      <td>0</td>\n",
              "      <td>0</td>\n",
              "      <td>0</td>\n",
              "      <td>0</td>\n",
              "      <td>0</td>\n",
              "      <td>851</td>\n",
              "      <td>345</td>\n",
              "      <td>19</td>\n",
              "      <td>2</td>\n",
              "      <td>1217</td>\n",
              "      <td>1217</td>\n",
              "    </tr>\n",
              "    <tr>\n",
              "      <th>34</th>\n",
              "      <td>35</td>\n",
              "      <td>Union Territory</td>\n",
              "      <td>Lakshadweep</td>\n",
              "      <td>2</td>\n",
              "      <td>0</td>\n",
              "      <td>0</td>\n",
              "      <td>0</td>\n",
              "      <td>0</td>\n",
              "      <td>0</td>\n",
              "      <td>0</td>\n",
              "      <td>2</td>\n",
              "      <td>0</td>\n",
              "      <td>0</td>\n",
              "      <td>2</td>\n",
              "      <td>2</td>\n",
              "    </tr>\n",
              "    <tr>\n",
              "      <th>35</th>\n",
              "      <td>36</td>\n",
              "      <td>Union Territory</td>\n",
              "      <td>Puducherry</td>\n",
              "      <td>0</td>\n",
              "      <td>0</td>\n",
              "      <td>0</td>\n",
              "      <td>0</td>\n",
              "      <td>0</td>\n",
              "      <td>0</td>\n",
              "      <td>0</td>\n",
              "      <td>0</td>\n",
              "      <td>0</td>\n",
              "      <td>0</td>\n",
              "      <td>0</td>\n",
              "      <td>0</td>\n",
              "    </tr>\n",
              "  </tbody>\n",
              "</table>\n",
              "</div>"
            ],
            "text/plain": [
              "    S. No         Category  ... Total Women Victims  Total Victims\n",
              "14     15            State  ...                2149           2149\n",
              "24     25            State  ...                 606            606\n",
              "25     26            State  ...                  97             97\n",
              "31     32  Union Territory  ...                   7              7\n",
              "33     34  Union Territory  ...                1217           1217\n",
              "34     35  Union Territory  ...                   2              2\n",
              "35     36  Union Territory  ...                   0              0\n",
              "\n",
              "[7 rows x 15 columns]"
            ]
          },
          "metadata": {
            "tags": []
          },
          "execution_count": 71
        }
      ]
    },
    {
      "cell_type": "code",
      "metadata": {
        "id": "fNoEhuKaKfs_",
        "colab": {
          "base_uri": "https://localhost:8080/",
          "height": 148
        },
        "outputId": "251e1fdb-63cb-4a03-9d48-dbbc0ed34839"
      },
      "source": [
        "dat2[dat2['Total Women Victims']==0] #child women victim=0 puducherry"
      ],
      "execution_count": null,
      "outputs": [
        {
          "output_type": "execute_result",
          "data": {
            "text/html": [
              "<div>\n",
              "<style scoped>\n",
              "    .dataframe tbody tr th:only-of-type {\n",
              "        vertical-align: middle;\n",
              "    }\n",
              "\n",
              "    .dataframe tbody tr th {\n",
              "        vertical-align: top;\n",
              "    }\n",
              "\n",
              "    .dataframe thead th {\n",
              "        text-align: right;\n",
              "    }\n",
              "</style>\n",
              "<table border=\"1\" class=\"dataframe\">\n",
              "  <thead>\n",
              "    <tr style=\"text-align: right;\">\n",
              "      <th></th>\n",
              "      <th>S. No</th>\n",
              "      <th>Category</th>\n",
              "      <th>State/UT</th>\n",
              "      <th>Cases Reported</th>\n",
              "      <th>Below 6 Years</th>\n",
              "      <th>6-12 Years</th>\n",
              "      <th>12-16 Years</th>\n",
              "      <th>16-18 Years</th>\n",
              "      <th>Total Child Victims</th>\n",
              "      <th>18-30 Years</th>\n",
              "      <th>30-45 Years</th>\n",
              "      <th>45-60 Years</th>\n",
              "      <th>60 Years &amp; Above</th>\n",
              "      <th>Total Women Victims</th>\n",
              "      <th>Total Victims</th>\n",
              "    </tr>\n",
              "  </thead>\n",
              "  <tbody>\n",
              "    <tr>\n",
              "      <th>35</th>\n",
              "      <td>36</td>\n",
              "      <td>Union Territory</td>\n",
              "      <td>Puducherry</td>\n",
              "      <td>0</td>\n",
              "      <td>0</td>\n",
              "      <td>0</td>\n",
              "      <td>0</td>\n",
              "      <td>0</td>\n",
              "      <td>0</td>\n",
              "      <td>0</td>\n",
              "      <td>0</td>\n",
              "      <td>0</td>\n",
              "      <td>0</td>\n",
              "      <td>0</td>\n",
              "      <td>0</td>\n",
              "    </tr>\n",
              "  </tbody>\n",
              "</table>\n",
              "</div>"
            ],
            "text/plain": [
              "    S. No         Category  ... Total Women Victims  Total Victims\n",
              "35     36  Union Territory  ...                   0              0\n",
              "\n",
              "[1 rows x 15 columns]"
            ]
          },
          "metadata": {
            "tags": []
          },
          "execution_count": 72
        }
      ]
    },
    {
      "cell_type": "markdown",
      "metadata": {
        "id": "rDNwtcxfMCBS"
      },
      "source": [
        "# **child victims report**"
      ]
    },
    {
      "cell_type": "code",
      "metadata": {
        "colab": {
          "base_uri": "https://localhost:8080/"
        },
        "id": "uDc4YJtbMIyF",
        "outputId": "27a74760-0cb7-4d26-f724-4be2e03858ec"
      },
      "source": [
        "dat2.iloc[dat['6-12 Years'].idxmax()] #max victim 6-12 207"
      ],
      "execution_count": null,
      "outputs": [
        {
          "output_type": "execute_result",
          "data": {
            "text/plain": [
              "S. No                              14\n",
              "Category                        State\n",
              "State/UT               Madhya Pradesh\n",
              "Cases Reported                   5433\n",
              "Below 6 Years                      54\n",
              "6-12 Years                        142\n",
              "12-16 Years                      1143\n",
              "16-18 Years                      1502\n",
              "Total Child Victims              2841\n",
              "18-30 Years                      1798\n",
              "30-45 Years                       725\n",
              "45-60 Years                        75\n",
              "60 Years & Above                   11\n",
              "Total Women Victims              2609\n",
              "Total Victims                    5450\n",
              "case not reported                  17\n",
              "Name: 13, dtype: object"
            ]
          },
          "metadata": {
            "tags": []
          },
          "execution_count": 18
        }
      ]
    },
    {
      "cell_type": "code",
      "metadata": {
        "colab": {
          "base_uri": "https://localhost:8080/"
        },
        "id": "_xZ4JovXMJCV",
        "outputId": "fbb8bd6d-d792-4c99-df5a-03e4413637fe"
      },
      "source": [
        "dat2.iloc[dat['Below 6 Years'].idxmax()] #max victim below 6 up 105\n"
      ],
      "execution_count": null,
      "outputs": [
        {
          "output_type": "execute_result",
          "data": {
            "text/plain": [
              "S. No                             27\n",
              "Category                       State\n",
              "State/UT               Uttar Pradesh\n",
              "Cases Reported                  3946\n",
              "Below 6 Years                     67\n",
              "6-12 Years                       174\n",
              "12-16 Years                      570\n",
              "16-18 Years                      600\n",
              "Total Child Victims             1411\n",
              "18-30 Years                     2235\n",
              "30-45 Years                      603\n",
              "45-60 Years                       70\n",
              "60 Years & Above                   3\n",
              "Total Women Victims             2911\n",
              "Total Victims                   4322\n",
              "case not reported                376\n",
              "Name: 26, dtype: object"
            ]
          },
          "metadata": {
            "tags": []
          },
          "execution_count": 19
        }
      ]
    },
    {
      "cell_type": "code",
      "metadata": {
        "colab": {
          "base_uri": "https://localhost:8080/"
        },
        "id": "46m55ys6MJEn",
        "outputId": "8ec53bc7-90f8-4458-ad72-b26efca5db7b"
      },
      "source": [
        "dat2.iloc[dat['12-16 Years'].idxmax()] #max victim 12-16 mp 1275\n"
      ],
      "execution_count": null,
      "outputs": [
        {
          "output_type": "execute_result",
          "data": {
            "text/plain": [
              "S. No                              14\n",
              "Category                        State\n",
              "State/UT               Madhya Pradesh\n",
              "Cases Reported                   5433\n",
              "Below 6 Years                      54\n",
              "6-12 Years                        142\n",
              "12-16 Years                      1143\n",
              "16-18 Years                      1502\n",
              "Total Child Victims              2841\n",
              "18-30 Years                      1798\n",
              "30-45 Years                       725\n",
              "45-60 Years                        75\n",
              "60 Years & Above                   11\n",
              "Total Women Victims              2609\n",
              "Total Victims                    5450\n",
              "case not reported                  17\n",
              "Name: 13, dtype: object"
            ]
          },
          "metadata": {
            "tags": []
          },
          "execution_count": 20
        }
      ]
    },
    {
      "cell_type": "code",
      "metadata": {
        "colab": {
          "base_uri": "https://localhost:8080/"
        },
        "id": "Y3WAnQZhMJIg",
        "outputId": "e5321cc2-8504-4cd8-e053-2d4fe1e9985d"
      },
      "source": [
        "dat2.iloc[dat['16-18 Years'].idxmax()] #max victim 16-18 mp 1550\n"
      ],
      "execution_count": null,
      "outputs": [
        {
          "output_type": "execute_result",
          "data": {
            "text/plain": [
              "S. No                              14\n",
              "Category                        State\n",
              "State/UT               Madhya Pradesh\n",
              "Cases Reported                   5433\n",
              "Below 6 Years                      54\n",
              "6-12 Years                        142\n",
              "12-16 Years                      1143\n",
              "16-18 Years                      1502\n",
              "Total Child Victims              2841\n",
              "18-30 Years                      1798\n",
              "30-45 Years                       725\n",
              "45-60 Years                        75\n",
              "60 Years & Above                   11\n",
              "Total Women Victims              2609\n",
              "Total Victims                    5450\n",
              "case not reported                  17\n",
              "Name: 13, dtype: object"
            ]
          },
          "metadata": {
            "tags": []
          },
          "execution_count": 21
        }
      ]
    },
    {
      "cell_type": "code",
      "metadata": {
        "colab": {
          "base_uri": "https://localhost:8080/"
        },
        "id": "PvnBO9lqMJTF",
        "outputId": "eefe25dc-aebe-48e1-9be5-a1f3a6e84ee8"
      },
      "source": [
        "dat2.iloc[dat['Total Child Victims'].idxmax() ] #max child victims 3082 mp"
      ],
      "execution_count": null,
      "outputs": [
        {
          "output_type": "execute_result",
          "data": {
            "text/plain": [
              "S. No                              14\n",
              "Category                        State\n",
              "State/UT               Madhya Pradesh\n",
              "Cases Reported                   5433\n",
              "Below 6 Years                      54\n",
              "6-12 Years                        142\n",
              "12-16 Years                      1143\n",
              "16-18 Years                      1502\n",
              "Total Child Victims              2841\n",
              "18-30 Years                      1798\n",
              "30-45 Years                       725\n",
              "45-60 Years                        75\n",
              "60 Years & Above                   11\n",
              "Total Women Victims              2609\n",
              "Total Victims                    5450\n",
              "case not reported                  17\n",
              "Name: 13, dtype: object"
            ]
          },
          "metadata": {
            "tags": []
          },
          "execution_count": 22
        }
      ]
    },
    {
      "cell_type": "markdown",
      "metadata": {
        "id": "azwA_cHIMcoI"
      },
      "source": [
        "# **women victim report**"
      ]
    },
    {
      "cell_type": "code",
      "metadata": {
        "colab": {
          "base_uri": "https://localhost:8080/"
        },
        "id": "ZCCNF2cSMA_-",
        "outputId": "dacda12d-e636-4012-ad6d-5b56609680bd"
      },
      "source": [
        "dat2.iloc[dat['18-30 Years'].idxmax()] #max victim 18-30 up 2313"
      ],
      "execution_count": null,
      "outputs": [
        {
          "output_type": "execute_result",
          "data": {
            "text/plain": [
              "S. No                             27\n",
              "Category                       State\n",
              "State/UT               Uttar Pradesh\n",
              "Cases Reported                  3946\n",
              "Below 6 Years                     67\n",
              "6-12 Years                       174\n",
              "12-16 Years                      570\n",
              "16-18 Years                      600\n",
              "Total Child Victims             1411\n",
              "18-30 Years                     2235\n",
              "30-45 Years                      603\n",
              "45-60 Years                       70\n",
              "60 Years & Above                   3\n",
              "Total Women Victims             2911\n",
              "Total Victims                   4322\n",
              "case not reported                376\n",
              "Name: 26, dtype: object"
            ]
          },
          "metadata": {
            "tags": []
          },
          "execution_count": 23
        }
      ]
    },
    {
      "cell_type": "code",
      "metadata": {
        "colab": {
          "base_uri": "https://localhost:8080/"
        },
        "id": "oHbSvJPGMn2R",
        "outputId": "1bf4ffbb-a1c1-446f-c0d6-5dfa3e3f1ea3"
      },
      "source": [
        "dat2.iloc[dat['30-45 Years'].idxmax()] #max victim 30-45 up 779"
      ],
      "execution_count": null,
      "outputs": [
        {
          "output_type": "execute_result",
          "data": {
            "text/plain": [
              "S. No                             27\n",
              "Category                       State\n",
              "State/UT               Uttar Pradesh\n",
              "Cases Reported                  3946\n",
              "Below 6 Years                     67\n",
              "6-12 Years                       174\n",
              "12-16 Years                      570\n",
              "16-18 Years                      600\n",
              "Total Child Victims             1411\n",
              "18-30 Years                     2235\n",
              "30-45 Years                      603\n",
              "45-60 Years                       70\n",
              "60 Years & Above                   3\n",
              "Total Women Victims             2911\n",
              "Total Victims                   4322\n",
              "case not reported                376\n",
              "Name: 26, dtype: object"
            ]
          },
          "metadata": {
            "tags": []
          },
          "execution_count": 24
        }
      ]
    },
    {
      "cell_type": "code",
      "metadata": {
        "colab": {
          "base_uri": "https://localhost:8080/"
        },
        "id": "t1lBKq3dMo_N",
        "outputId": "695d436a-e885-44b5-b777-f8b530e707f8"
      },
      "source": [
        "dat2.iloc[dat['45-60 Years'].idxmax()] #max victim 45-60 mp 104"
      ],
      "execution_count": null,
      "outputs": [
        {
          "output_type": "execute_result",
          "data": {
            "text/plain": [
              "S. No                              14\n",
              "Category                        State\n",
              "State/UT               Madhya Pradesh\n",
              "Cases Reported                   5433\n",
              "Below 6 Years                      54\n",
              "6-12 Years                        142\n",
              "12-16 Years                      1143\n",
              "16-18 Years                      1502\n",
              "Total Child Victims              2841\n",
              "18-30 Years                      1798\n",
              "30-45 Years                       725\n",
              "45-60 Years                        75\n",
              "60 Years & Above                   11\n",
              "Total Women Victims              2609\n",
              "Total Victims                    5450\n",
              "case not reported                  17\n",
              "Name: 13, dtype: object"
            ]
          },
          "metadata": {
            "tags": []
          },
          "execution_count": 25
        }
      ]
    },
    {
      "cell_type": "code",
      "metadata": {
        "colab": {
          "base_uri": "https://localhost:8080/"
        },
        "id": "UEc609UtMrRw",
        "outputId": "8c4c74c5-cfe7-40f4-82e9-3a95116389c2"
      },
      "source": [
        "dat2.iloc[dat['60 Years & Above'].idxmax()] #max 60 Years & Above mp 46"
      ],
      "execution_count": null,
      "outputs": [
        {
          "output_type": "execute_result",
          "data": {
            "text/plain": [
              "S. No                              14\n",
              "Category                        State\n",
              "State/UT               Madhya Pradesh\n",
              "Cases Reported                   5433\n",
              "Below 6 Years                      54\n",
              "6-12 Years                        142\n",
              "12-16 Years                      1143\n",
              "16-18 Years                      1502\n",
              "Total Child Victims              2841\n",
              "18-30 Years                      1798\n",
              "30-45 Years                       725\n",
              "45-60 Years                        75\n",
              "60 Years & Above                   11\n",
              "Total Women Victims              2609\n",
              "Total Victims                    5450\n",
              "case not reported                  17\n",
              "Name: 13, dtype: object"
            ]
          },
          "metadata": {
            "tags": []
          },
          "execution_count": 26
        }
      ]
    },
    {
      "cell_type": "code",
      "metadata": {
        "colab": {
          "base_uri": "https://localhost:8080/"
        },
        "id": "fJLkyyhNMvSH",
        "outputId": "913d3f69-9f4c-4b92-9fbd-74ad11609eae"
      },
      "source": [
        "dat2.iloc[dat['Total Women Victims'].idxmax()] #max women victims"
      ],
      "execution_count": null,
      "outputs": [
        {
          "output_type": "execute_result",
          "data": {
            "text/plain": [
              "S. No                             27\n",
              "Category                       State\n",
              "State/UT               Uttar Pradesh\n",
              "Cases Reported                  3946\n",
              "Below 6 Years                     67\n",
              "6-12 Years                       174\n",
              "12-16 Years                      570\n",
              "16-18 Years                      600\n",
              "Total Child Victims             1411\n",
              "18-30 Years                     2235\n",
              "30-45 Years                      603\n",
              "45-60 Years                       70\n",
              "60 Years & Above                   3\n",
              "Total Women Victims             2911\n",
              "Total Victims                   4322\n",
              "case not reported                376\n",
              "Name: 26, dtype: object"
            ]
          },
          "metadata": {
            "tags": []
          },
          "execution_count": 27
        }
      ]
    },
    {
      "cell_type": "code",
      "metadata": {
        "id": "1Ts6wP2iN56l"
      },
      "source": [
        "##TOTAL VICTIMS OF 2016 + 2018\n",
        "new=pd.DataFrame({'states/ut':dat['State/UT'],\n",
        "                  'total victims':dat['Total Victims']+dat2['Total Victims'],\n",
        "                  'case reported':dat['Cases Reported']+dat2['Cases Reported'],\n",
        "                  'case not reported':dat['case not reported']+dat2['case not reported'],\n",
        "                  'total child victims':dat['Total Child Victims']+dat2['Total Child Victims'],\n",
        "                  'total women victims':dat['Total Women Victims']+dat2['Total Women Victims']})"
      ],
      "execution_count": null,
      "outputs": []
    },
    {
      "cell_type": "code",
      "metadata": {
        "colab": {
          "base_uri": "https://localhost:8080/",
          "height": 1000
        },
        "id": "Hk0X0ZyhN59l",
        "outputId": "7a251798-6d2a-4060-df78-02090dd8fa2d"
      },
      "source": [
        "new"
      ],
      "execution_count": null,
      "outputs": [
        {
          "output_type": "execute_result",
          "data": {
            "text/html": [
              "<div>\n",
              "<style scoped>\n",
              "    .dataframe tbody tr th:only-of-type {\n",
              "        vertical-align: middle;\n",
              "    }\n",
              "\n",
              "    .dataframe tbody tr th {\n",
              "        vertical-align: top;\n",
              "    }\n",
              "\n",
              "    .dataframe thead th {\n",
              "        text-align: right;\n",
              "    }\n",
              "</style>\n",
              "<table border=\"1\" class=\"dataframe\">\n",
              "  <thead>\n",
              "    <tr style=\"text-align: right;\">\n",
              "      <th></th>\n",
              "      <th>states/ut</th>\n",
              "      <th>total victims</th>\n",
              "      <th>case reported</th>\n",
              "      <th>case not reported</th>\n",
              "      <th>total child victims</th>\n",
              "      <th>total women victims</th>\n",
              "    </tr>\n",
              "  </thead>\n",
              "  <tbody>\n",
              "    <tr>\n",
              "      <th>0</th>\n",
              "      <td>Andhra Pradesh</td>\n",
              "      <td>1978</td>\n",
              "      <td>1959</td>\n",
              "      <td>19</td>\n",
              "      <td>1046</td>\n",
              "      <td>932</td>\n",
              "    </tr>\n",
              "    <tr>\n",
              "      <th>1</th>\n",
              "      <td>Arunachal Pradesh</td>\n",
              "      <td>141</td>\n",
              "      <td>126</td>\n",
              "      <td>15</td>\n",
              "      <td>74</td>\n",
              "      <td>67</td>\n",
              "    </tr>\n",
              "    <tr>\n",
              "      <th>2</th>\n",
              "      <td>Assam</td>\n",
              "      <td>3815</td>\n",
              "      <td>3420</td>\n",
              "      <td>395</td>\n",
              "      <td>189</td>\n",
              "      <td>3626</td>\n",
              "    </tr>\n",
              "    <tr>\n",
              "      <th>3</th>\n",
              "      <td>Bihar</td>\n",
              "      <td>1267</td>\n",
              "      <td>1256</td>\n",
              "      <td>11</td>\n",
              "      <td>4</td>\n",
              "      <td>1263</td>\n",
              "    </tr>\n",
              "    <tr>\n",
              "      <th>4</th>\n",
              "      <td>Chhattisgarh</td>\n",
              "      <td>4027</td>\n",
              "      <td>3999</td>\n",
              "      <td>28</td>\n",
              "      <td>2353</td>\n",
              "      <td>1674</td>\n",
              "    </tr>\n",
              "    <tr>\n",
              "      <th>5</th>\n",
              "      <td>Goa</td>\n",
              "      <td>137</td>\n",
              "      <td>137</td>\n",
              "      <td>0</td>\n",
              "      <td>90</td>\n",
              "      <td>47</td>\n",
              "    </tr>\n",
              "    <tr>\n",
              "      <th>6</th>\n",
              "      <td>Gujarat</td>\n",
              "      <td>1032</td>\n",
              "      <td>1030</td>\n",
              "      <td>2</td>\n",
              "      <td>9</td>\n",
              "      <td>1023</td>\n",
              "    </tr>\n",
              "    <tr>\n",
              "      <th>7</th>\n",
              "      <td>Haryana</td>\n",
              "      <td>2400</td>\n",
              "      <td>2395</td>\n",
              "      <td>5</td>\n",
              "      <td>139</td>\n",
              "      <td>2261</td>\n",
              "    </tr>\n",
              "    <tr>\n",
              "      <th>8</th>\n",
              "      <td>Himachal Pradesh</td>\n",
              "      <td>600</td>\n",
              "      <td>593</td>\n",
              "      <td>7</td>\n",
              "      <td>341</td>\n",
              "      <td>259</td>\n",
              "    </tr>\n",
              "    <tr>\n",
              "      <th>9</th>\n",
              "      <td>Jammu &amp; Kashmir</td>\n",
              "      <td>626</td>\n",
              "      <td>616</td>\n",
              "      <td>10</td>\n",
              "      <td>85</td>\n",
              "      <td>541</td>\n",
              "    </tr>\n",
              "    <tr>\n",
              "      <th>10</th>\n",
              "      <td>Jharkhand</td>\n",
              "      <td>2025</td>\n",
              "      <td>2004</td>\n",
              "      <td>21</td>\n",
              "      <td>153</td>\n",
              "      <td>1872</td>\n",
              "    </tr>\n",
              "    <tr>\n",
              "      <th>11</th>\n",
              "      <td>Karnataka</td>\n",
              "      <td>1055</td>\n",
              "      <td>1038</td>\n",
              "      <td>17</td>\n",
              "      <td>5</td>\n",
              "      <td>1050</td>\n",
              "    </tr>\n",
              "    <tr>\n",
              "      <th>12</th>\n",
              "      <td>Kerala</td>\n",
              "      <td>4007</td>\n",
              "      <td>3948</td>\n",
              "      <td>59</td>\n",
              "      <td>2241</td>\n",
              "      <td>1766</td>\n",
              "    </tr>\n",
              "    <tr>\n",
              "      <th>13</th>\n",
              "      <td>Madhya Pradesh</td>\n",
              "      <td>11049</td>\n",
              "      <td>10995</td>\n",
              "      <td>54</td>\n",
              "      <td>5923</td>\n",
              "      <td>5126</td>\n",
              "    </tr>\n",
              "    <tr>\n",
              "      <th>14</th>\n",
              "      <td>Maharashtra</td>\n",
              "      <td>4094</td>\n",
              "      <td>4075</td>\n",
              "      <td>19</td>\n",
              "      <td>12</td>\n",
              "      <td>4082</td>\n",
              "    </tr>\n",
              "    <tr>\n",
              "      <th>15</th>\n",
              "      <td>Manipur</td>\n",
              "      <td>93</td>\n",
              "      <td>92</td>\n",
              "      <td>1</td>\n",
              "      <td>19</td>\n",
              "      <td>74</td>\n",
              "    </tr>\n",
              "    <tr>\n",
              "      <th>16</th>\n",
              "      <td>Meghalaya</td>\n",
              "      <td>208</td>\n",
              "      <td>206</td>\n",
              "      <td>2</td>\n",
              "      <td>71</td>\n",
              "      <td>137</td>\n",
              "    </tr>\n",
              "    <tr>\n",
              "      <th>17</th>\n",
              "      <td>Mizoram</td>\n",
              "      <td>75</td>\n",
              "      <td>75</td>\n",
              "      <td>0</td>\n",
              "      <td>23</td>\n",
              "      <td>52</td>\n",
              "    </tr>\n",
              "    <tr>\n",
              "      <th>18</th>\n",
              "      <td>Nagaland</td>\n",
              "      <td>21</td>\n",
              "      <td>20</td>\n",
              "      <td>1</td>\n",
              "      <td>4</td>\n",
              "      <td>17</td>\n",
              "    </tr>\n",
              "    <tr>\n",
              "      <th>19</th>\n",
              "      <td>Odisha</td>\n",
              "      <td>3005</td>\n",
              "      <td>2988</td>\n",
              "      <td>17</td>\n",
              "      <td>1334</td>\n",
              "      <td>1671</td>\n",
              "    </tr>\n",
              "    <tr>\n",
              "      <th>20</th>\n",
              "      <td>Punjab</td>\n",
              "      <td>1387</td>\n",
              "      <td>1361</td>\n",
              "      <td>26</td>\n",
              "      <td>456</td>\n",
              "      <td>931</td>\n",
              "    </tr>\n",
              "    <tr>\n",
              "      <th>21</th>\n",
              "      <td>Rajasthan</td>\n",
              "      <td>7656</td>\n",
              "      <td>7640</td>\n",
              "      <td>16</td>\n",
              "      <td>1544</td>\n",
              "      <td>6112</td>\n",
              "    </tr>\n",
              "    <tr>\n",
              "      <th>22</th>\n",
              "      <td>Sikkim</td>\n",
              "      <td>33</td>\n",
              "      <td>33</td>\n",
              "      <td>0</td>\n",
              "      <td>4</td>\n",
              "      <td>29</td>\n",
              "    </tr>\n",
              "    <tr>\n",
              "      <th>23</th>\n",
              "      <td>Tamil Nadu</td>\n",
              "      <td>615</td>\n",
              "      <td>614</td>\n",
              "      <td>1</td>\n",
              "      <td>6</td>\n",
              "      <td>609</td>\n",
              "    </tr>\n",
              "    <tr>\n",
              "      <th>24</th>\n",
              "      <td>Telangana</td>\n",
              "      <td>1305</td>\n",
              "      <td>1158</td>\n",
              "      <td>147</td>\n",
              "      <td>0</td>\n",
              "      <td>1305</td>\n",
              "    </tr>\n",
              "    <tr>\n",
              "      <th>25</th>\n",
              "      <td>Tripura</td>\n",
              "      <td>198</td>\n",
              "      <td>192</td>\n",
              "      <td>6</td>\n",
              "      <td>5</td>\n",
              "      <td>193</td>\n",
              "    </tr>\n",
              "    <tr>\n",
              "      <th>26</th>\n",
              "      <td>Uttar Pradesh</td>\n",
              "      <td>8991</td>\n",
              "      <td>8192</td>\n",
              "      <td>799</td>\n",
              "      <td>2971</td>\n",
              "      <td>6020</td>\n",
              "    </tr>\n",
              "    <tr>\n",
              "      <th>27</th>\n",
              "      <td>Uttarakhand</td>\n",
              "      <td>973</td>\n",
              "      <td>935</td>\n",
              "      <td>38</td>\n",
              "      <td>433</td>\n",
              "      <td>540</td>\n",
              "    </tr>\n",
              "    <tr>\n",
              "      <th>28</th>\n",
              "      <td>West Bengal</td>\n",
              "      <td>2153</td>\n",
              "      <td>2153</td>\n",
              "      <td>0</td>\n",
              "      <td>4</td>\n",
              "      <td>2149</td>\n",
              "    </tr>\n",
              "    <tr>\n",
              "      <th>29</th>\n",
              "      <td>A &amp; N Islands</td>\n",
              "      <td>43</td>\n",
              "      <td>43</td>\n",
              "      <td>0</td>\n",
              "      <td>15</td>\n",
              "      <td>28</td>\n",
              "    </tr>\n",
              "    <tr>\n",
              "      <th>30</th>\n",
              "      <td>Chandigarh</td>\n",
              "      <td>151</td>\n",
              "      <td>151</td>\n",
              "      <td>0</td>\n",
              "      <td>98</td>\n",
              "      <td>53</td>\n",
              "    </tr>\n",
              "    <tr>\n",
              "      <th>31</th>\n",
              "      <td>D&amp;N Haveli</td>\n",
              "      <td>8</td>\n",
              "      <td>8</td>\n",
              "      <td>0</td>\n",
              "      <td>0</td>\n",
              "      <td>8</td>\n",
              "    </tr>\n",
              "    <tr>\n",
              "      <th>32</th>\n",
              "      <td>Daman &amp; Diu</td>\n",
              "      <td>10</td>\n",
              "      <td>10</td>\n",
              "      <td>0</td>\n",
              "      <td>3</td>\n",
              "      <td>7</td>\n",
              "    </tr>\n",
              "    <tr>\n",
              "      <th>33</th>\n",
              "      <td>Delhi UT</td>\n",
              "      <td>2448</td>\n",
              "      <td>2444</td>\n",
              "      <td>4</td>\n",
              "      <td>0</td>\n",
              "      <td>2448</td>\n",
              "    </tr>\n",
              "    <tr>\n",
              "      <th>34</th>\n",
              "      <td>Lakshadweep</td>\n",
              "      <td>2</td>\n",
              "      <td>2</td>\n",
              "      <td>0</td>\n",
              "      <td>0</td>\n",
              "      <td>2</td>\n",
              "    </tr>\n",
              "    <tr>\n",
              "      <th>35</th>\n",
              "      <td>Puducherry</td>\n",
              "      <td>7</td>\n",
              "      <td>7</td>\n",
              "      <td>0</td>\n",
              "      <td>0</td>\n",
              "      <td>7</td>\n",
              "    </tr>\n",
              "  </tbody>\n",
              "</table>\n",
              "</div>"
            ],
            "text/plain": [
              "            states/ut  total victims  ...  total child victims  total women victims\n",
              "0      Andhra Pradesh           1978  ...                 1046                  932\n",
              "1   Arunachal Pradesh            141  ...                   74                   67\n",
              "2               Assam           3815  ...                  189                 3626\n",
              "3               Bihar           1267  ...                    4                 1263\n",
              "4        Chhattisgarh           4027  ...                 2353                 1674\n",
              "5                 Goa            137  ...                   90                   47\n",
              "6             Gujarat           1032  ...                    9                 1023\n",
              "7             Haryana           2400  ...                  139                 2261\n",
              "8    Himachal Pradesh            600  ...                  341                  259\n",
              "9     Jammu & Kashmir            626  ...                   85                  541\n",
              "10          Jharkhand           2025  ...                  153                 1872\n",
              "11          Karnataka           1055  ...                    5                 1050\n",
              "12             Kerala           4007  ...                 2241                 1766\n",
              "13     Madhya Pradesh          11049  ...                 5923                 5126\n",
              "14        Maharashtra           4094  ...                   12                 4082\n",
              "15            Manipur             93  ...                   19                   74\n",
              "16          Meghalaya            208  ...                   71                  137\n",
              "17            Mizoram             75  ...                   23                   52\n",
              "18           Nagaland             21  ...                    4                   17\n",
              "19             Odisha           3005  ...                 1334                 1671\n",
              "20             Punjab           1387  ...                  456                  931\n",
              "21          Rajasthan           7656  ...                 1544                 6112\n",
              "22             Sikkim             33  ...                    4                   29\n",
              "23         Tamil Nadu            615  ...                    6                  609\n",
              "24          Telangana           1305  ...                    0                 1305\n",
              "25            Tripura            198  ...                    5                  193\n",
              "26      Uttar Pradesh           8991  ...                 2971                 6020\n",
              "27        Uttarakhand            973  ...                  433                  540\n",
              "28        West Bengal           2153  ...                    4                 2149\n",
              "29      A & N Islands             43  ...                   15                   28\n",
              "30         Chandigarh            151  ...                   98                   53\n",
              "31         D&N Haveli              8  ...                    0                    8\n",
              "32        Daman & Diu             10  ...                    3                    7\n",
              "33           Delhi UT           2448  ...                    0                 2448\n",
              "34        Lakshadweep              2  ...                    0                    2\n",
              "35         Puducherry              7  ...                    0                    7\n",
              "\n",
              "[36 rows x 6 columns]"
            ]
          },
          "metadata": {
            "tags": []
          },
          "execution_count": 73
        }
      ]
    },
    {
      "cell_type": "code",
      "metadata": {
        "colab": {
          "base_uri": "https://localhost:8080/"
        },
        "id": "BGldJQiwS4kc",
        "outputId": "7af1c9ec-5b92-4211-b5dc-ec36f3074a12"
      },
      "source": [
        "new.iloc[new['total victims'].idxmax()]"
      ],
      "execution_count": null,
      "outputs": [
        {
          "output_type": "execute_result",
          "data": {
            "text/plain": [
              "states/ut              Madhya Pradesh\n",
              "total victims                   11049\n",
              "case reported                   10995\n",
              "case not reported                  54\n",
              "total child victims              5923\n",
              "total women victims              5126\n",
              "Name: 13, dtype: object"
            ]
          },
          "metadata": {
            "tags": []
          },
          "execution_count": 51
        }
      ]
    },
    {
      "cell_type": "code",
      "metadata": {
        "colab": {
          "base_uri": "https://localhost:8080/"
        },
        "id": "72rH8G0eN6Ae",
        "outputId": "451c1081-1957-48dc-97fb-43461a4d7f93"
      },
      "source": [
        "new.iloc[new['total victims'].idxmin()]"
      ],
      "execution_count": null,
      "outputs": [
        {
          "output_type": "execute_result",
          "data": {
            "text/plain": [
              "states/ut              Lakshadweep\n",
              "total victims                    2\n",
              "case reported                    2\n",
              "case not reported                0\n",
              "total child victims              0\n",
              "total women victims              2\n",
              "Name: 34, dtype: object"
            ]
          },
          "metadata": {
            "tags": []
          },
          "execution_count": 52
        }
      ]
    },
    {
      "cell_type": "code",
      "metadata": {
        "colab": {
          "base_uri": "https://localhost:8080/"
        },
        "id": "9RT_PuXmThm2",
        "outputId": "f124e0ec-bc89-4fea-deda-e2f667206b6f"
      },
      "source": [
        "new.iloc[new['case reported'].idxmax()]"
      ],
      "execution_count": null,
      "outputs": [
        {
          "output_type": "execute_result",
          "data": {
            "text/plain": [
              "states/ut              Madhya Pradesh\n",
              "total victims                   11049\n",
              "case reported                   10995\n",
              "case not reported                  54\n",
              "total child victims              5923\n",
              "total women victims              5126\n",
              "Name: 13, dtype: object"
            ]
          },
          "metadata": {
            "tags": []
          },
          "execution_count": 53
        }
      ]
    },
    {
      "cell_type": "code",
      "metadata": {
        "colab": {
          "base_uri": "https://localhost:8080/"
        },
        "id": "wi7jLmkUTrIM",
        "outputId": "0edb7ed1-6956-4b39-f578-86a5df5ba351"
      },
      "source": [
        "new.iloc[new['case reported'].idxmin()]"
      ],
      "execution_count": null,
      "outputs": [
        {
          "output_type": "execute_result",
          "data": {
            "text/plain": [
              "states/ut              Lakshadweep\n",
              "total victims                    2\n",
              "case reported                    2\n",
              "case not reported                0\n",
              "total child victims              0\n",
              "total women victims              2\n",
              "Name: 34, dtype: object"
            ]
          },
          "metadata": {
            "tags": []
          },
          "execution_count": 54
        }
      ]
    },
    {
      "cell_type": "code",
      "metadata": {
        "colab": {
          "base_uri": "https://localhost:8080/"
        },
        "id": "gOV-QuDITxXU",
        "outputId": "1be27046-c794-4b8c-c5b0-1f33d2a04848"
      },
      "source": [
        "new.iloc[new['case not reported'].idxmax()]"
      ],
      "execution_count": null,
      "outputs": [
        {
          "output_type": "execute_result",
          "data": {
            "text/plain": [
              "states/ut              Uttar Pradesh\n",
              "total victims                   8991\n",
              "case reported                   8192\n",
              "case not reported                799\n",
              "total child victims             2971\n",
              "total women victims             6020\n",
              "Name: 26, dtype: object"
            ]
          },
          "metadata": {
            "tags": []
          },
          "execution_count": 55
        }
      ]
    },
    {
      "cell_type": "code",
      "metadata": {
        "colab": {
          "base_uri": "https://localhost:8080/"
        },
        "id": "fEyaBK_CT1Dg",
        "outputId": "cc8a51a6-b100-4bc4-e97a-d0039320bb46"
      },
      "source": [
        "new.iloc[new['total child victims'].idxmax()]"
      ],
      "execution_count": null,
      "outputs": [
        {
          "output_type": "execute_result",
          "data": {
            "text/plain": [
              "states/ut              Madhya Pradesh\n",
              "total victims                   11049\n",
              "case reported                   10995\n",
              "case not reported                  54\n",
              "total child victims              5923\n",
              "total women victims              5126\n",
              "Name: 13, dtype: object"
            ]
          },
          "metadata": {
            "tags": []
          },
          "execution_count": 56
        }
      ]
    },
    {
      "cell_type": "code",
      "metadata": {
        "colab": {
          "base_uri": "https://localhost:8080/"
        },
        "id": "Nb31m6JqUAaL",
        "outputId": "1d3e498f-22c6-4f8f-8126-99f15a02c698"
      },
      "source": [
        "new.iloc[new['total women victims'].idxmax()]"
      ],
      "execution_count": null,
      "outputs": [
        {
          "output_type": "execute_result",
          "data": {
            "text/plain": [
              "states/ut              Rajasthan\n",
              "total victims               7656\n",
              "case reported               7640\n",
              "case not reported             16\n",
              "total child victims         1544\n",
              "total women victims         6112\n",
              "Name: 21, dtype: object"
            ]
          },
          "metadata": {
            "tags": []
          },
          "execution_count": 57
        }
      ]
    },
    {
      "cell_type": "code",
      "metadata": {
        "colab": {
          "base_uri": "https://localhost:8080/",
          "height": 297
        },
        "id": "7UwCNzHucpcd",
        "outputId": "c6847402-e10f-44e0-cc09-64528c7594ba"
      },
      "source": [
        "df = pd.read_csv('/content/drive/MyDrive/project-dataset/Book1.csv') #total sum of 2016 and 2018 in age wise category\n",
        "df \n",
        "   "
      ],
      "execution_count": null,
      "outputs": [
        {
          "output_type": "execute_result",
          "data": {
            "text/html": [
              "<div>\n",
              "<style scoped>\n",
              "    .dataframe tbody tr th:only-of-type {\n",
              "        vertical-align: middle;\n",
              "    }\n",
              "\n",
              "    .dataframe tbody tr th {\n",
              "        vertical-align: top;\n",
              "    }\n",
              "\n",
              "    .dataframe thead th {\n",
              "        text-align: right;\n",
              "    }\n",
              "</style>\n",
              "<table border=\"1\" class=\"dataframe\">\n",
              "  <thead>\n",
              "    <tr style=\"text-align: right;\">\n",
              "      <th></th>\n",
              "      <th>AGEWISE</th>\n",
              "      <th>TOTAL</th>\n",
              "    </tr>\n",
              "  </thead>\n",
              "  <tbody>\n",
              "    <tr>\n",
              "      <th>0</th>\n",
              "      <td>Below 6 Years</td>\n",
              "      <td>579</td>\n",
              "    </tr>\n",
              "    <tr>\n",
              "      <th>1</th>\n",
              "      <td>6-12 Years</td>\n",
              "      <td>1575</td>\n",
              "    </tr>\n",
              "    <tr>\n",
              "      <th>2</th>\n",
              "      <td>12-16 Years</td>\n",
              "      <td>7375</td>\n",
              "    </tr>\n",
              "    <tr>\n",
              "      <th>3</th>\n",
              "      <td>16-18 Years</td>\n",
              "      <td>10125</td>\n",
              "    </tr>\n",
              "    <tr>\n",
              "      <th>4</th>\n",
              "      <td>18-30 Years</td>\n",
              "      <td>34536</td>\n",
              "    </tr>\n",
              "    <tr>\n",
              "      <th>5</th>\n",
              "      <td>30-45 Years</td>\n",
              "      <td>12003</td>\n",
              "    </tr>\n",
              "    <tr>\n",
              "      <th>6</th>\n",
              "      <td>45-60 Years</td>\n",
              "      <td>1230</td>\n",
              "    </tr>\n",
              "    <tr>\n",
              "      <th>7</th>\n",
              "      <td>60 Years &amp; Above</td>\n",
              "      <td>212</td>\n",
              "    </tr>\n",
              "  </tbody>\n",
              "</table>\n",
              "</div>"
            ],
            "text/plain": [
              "            AGEWISE  TOTAL\n",
              "0     Below 6 Years    579\n",
              "1        6-12 Years   1575\n",
              "2      12-16 Years    7375\n",
              "3       16-18 Years  10125\n",
              "4       18-30 Years  34536\n",
              "5       30-45 Years  12003\n",
              "6       45-60 Years   1230\n",
              "7  60 Years & Above    212"
            ]
          },
          "metadata": {
            "tags": []
          },
          "execution_count": 21
        }
      ]
    },
    {
      "cell_type": "code",
      "metadata": {
        "colab": {
          "base_uri": "https://localhost:8080/",
          "height": 248
        },
        "id": "cQjnFFy9ffg_",
        "outputId": "90e46ea3-9c58-4f1d-993c-56c2ff37c17d"
      },
      "source": [
        "plt.pie(df.TOTAL,labels=df.AGEWISE) #AGEWISE CAMPARISON\n",
        "\n",
        "plt.show()"
      ],
      "execution_count": null,
      "outputs": [
        {
          "output_type": "display_data",
          "data": {
            "image/png": "[encoded data removed]",
            "text/plain": [
              "<Figure size 432x288 with 1 Axes>"
            ]
          },
          "metadata": {
            "tags": []
          }
        }
      ]
    },
    {
      "cell_type": "code",
      "metadata": {
        "colab": {
          "base_uri": "https://localhost:8080/",
          "height": 296
        },
        "id": "y9s9q397m5y3",
        "outputId": "ed9c3dd1-7dae-489b-c8e6-19555b0042f0"
      },
      "source": [
        "df.plot(x='AGEWISE',y='TOTAL',kind='line')"
      ],
      "execution_count": null,
      "outputs": [
        {
          "output_type": "execute_result",
          "data": {
            "text/plain": [
              "<matplotlib.axes._subplots.AxesSubplot at 0x7fcb393627d0>"
            ]
          },
          "metadata": {
            "tags": []
          },
          "execution_count": 25
        },
        {
          "output_type": "display_data",
          "data": {
            "image/png": "[encoded data removed]",
            "text/plain": [
              "<Figure size 432x288 with 1 Axes>"
            ]
          },
          "metadata": {
            "tags": [],
            "needs_background": "light"
          }
        }
      ]
    },
    {
      "cell_type": "code",
      "metadata": {
        "id": "qILR5Oare3pl"
      },
      "source": [
        "nwdata=pd.DataFrame({'states/ut':dat['State/UT'],\n",
        "                     'Total victims 2016':dat['Total Victims'],\n",
        "                     'Total victims 2018':dat2['Total Victims']})\n",
        "nwdata"
      ],
      "execution_count": null,
      "outputs": []
    },
    {
      "cell_type": "code",
      "metadata": {
        "colab": {
          "base_uri": "https://localhost:8080/",
          "height": 414
        },
        "id": "u2I5EcmR7toZ",
        "outputId": "71716501-d460-4003-f5ce-1438aca2989c"
      },
      "source": [
        "#STATEWISE CAMAPRISON\n",
        "plt.figure(figsize=(50,10)) \n",
        "nwdata.plot(x=\"states/ut\", y=[\"Total victims 2016\", \"Total victims 2018\"],kind=\"bar\")\n",
        "plt.title(\"statewise victims\")\n",
        "plt.xlabel(\"states/ut\")\n",
        "plt.ylabel(\"Total victims\")\n"
      ],
      "execution_count": null,
      "outputs": [
        {
          "output_type": "execute_result",
          "data": {
            "text/plain": [
              "Text(0, 0.5, 'Total victims')"
            ]
          },
          "metadata": {
            "tags": []
          },
          "execution_count": 49
        },
        {
          "output_type": "display_data",
          "data": {
            "text/plain": [
              "<Figure size 3600x720 with 0 Axes>"
            ]
          },
          "metadata": {
            "tags": []
          }
        },
        {
          "output_type": "display_data",
          "data": {
            "image/png": "[encoded data removed]",
            "text/plain": [
              "<Figure size 432x288 with 1 Axes>"
            ]
          },
          "metadata": {
            "tags": [],
            "needs_background": "light"
          }
        }
      ]
    },
    {
      "cell_type": "code",
      "metadata": {
        "colab": {
          "base_uri": "https://localhost:8080/",
          "height": 206
        },
        "id": "5khjK0-Iu7pu",
        "outputId": "03542ed4-4068-45c8-bdc3-f3d257431036"
      },
      "source": [
        "nwdata2=pd.DataFrame({ 'Total':['victims','child victims','women victims','case reported','case not reported'],\n",
        "                      'victims 2016':[33658,10221,23437,32559,1099],\n",
        "                      'victims 2018':[33977,9433,24544,33356,621]\n",
        "})\n",
        "nwdata2"
      ],
      "execution_count": null,
      "outputs": [
        {
          "output_type": "execute_result",
          "data": {
            "text/html": [
              "<div>\n",
              "<style scoped>\n",
              "    .dataframe tbody tr th:only-of-type {\n",
              "        vertical-align: middle;\n",
              "    }\n",
              "\n",
              "    .dataframe tbody tr th {\n",
              "        vertical-align: top;\n",
              "    }\n",
              "\n",
              "    .dataframe thead th {\n",
              "        text-align: right;\n",
              "    }\n",
              "</style>\n",
              "<table border=\"1\" class=\"dataframe\">\n",
              "  <thead>\n",
              "    <tr style=\"text-align: right;\">\n",
              "      <th></th>\n",
              "      <th>Total</th>\n",
              "      <th>victims 2016</th>\n",
              "      <th>victims 2018</th>\n",
              "    </tr>\n",
              "  </thead>\n",
              "  <tbody>\n",
              "    <tr>\n",
              "      <th>0</th>\n",
              "      <td>victims</td>\n",
              "      <td>33658</td>\n",
              "      <td>33977</td>\n",
              "    </tr>\n",
              "    <tr>\n",
              "      <th>1</th>\n",
              "      <td>child victims</td>\n",
              "      <td>10221</td>\n",
              "      <td>9433</td>\n",
              "    </tr>\n",
              "    <tr>\n",
              "      <th>2</th>\n",
              "      <td>women victims</td>\n",
              "      <td>23437</td>\n",
              "      <td>24544</td>\n",
              "    </tr>\n",
              "    <tr>\n",
              "      <th>3</th>\n",
              "      <td>case reported</td>\n",
              "      <td>32559</td>\n",
              "      <td>33356</td>\n",
              "    </tr>\n",
              "    <tr>\n",
              "      <th>4</th>\n",
              "      <td>case not reported</td>\n",
              "      <td>1099</td>\n",
              "      <td>621</td>\n",
              "    </tr>\n",
              "  </tbody>\n",
              "</table>\n",
              "</div>"
            ],
            "text/plain": [
              "               Total  victims 2016  victims 2018\n",
              "0            victims         33658         33977\n",
              "1      child victims         10221          9433\n",
              "2      women victims         23437         24544\n",
              "3      case reported         32559         33356\n",
              "4  case not reported          1099           621"
            ]
          },
          "metadata": {
            "tags": []
          },
          "execution_count": 71
        }
      ]
    },
    {
      "cell_type": "code",
      "metadata": {
        "colab": {
          "base_uri": "https://localhost:8080/",
          "height": 375
        },
        "id": "qtgLQlISPwwU",
        "outputId": "b7f0710f-896c-4425-d474-de0c0f6c1eba"
      },
      "source": [
        "#CATEGORY WISE CAMPARISON\n",
        "nwdata2.plot(x='Total',y=['victims 2016','victims 2018'],kind='bar')"
      ],
      "execution_count": null,
      "outputs": [
        {
          "output_type": "execute_result",
          "data": {
            "text/plain": [
              "<matplotlib.axes._subplots.AxesSubplot at 0x7f247388bf10>"
            ]
          },
          "metadata": {
            "tags": []
          },
          "execution_count": 72
        },
        {
          "output_type": "display_data",
          "data": {
            "image/png": "[encoded data removed]",
            "text/plain": [
              "<Figure size 432x288 with 1 Axes>"
            ]
          },
          "metadata": {
            "tags": [],
            "needs_background": "light"
          }
        }
      ]
    },
    {
      "cell_type": "code",
      "metadata": {
        "id": "GHgvR39yNt7B"
      },
      "source": [
        "nwdata3=pd.DataFrame({'year':[2016,2018],\n",
        "                      'total victims':[33658,33977]})"
      ],
      "execution_count": null,
      "outputs": []
    },
    {
      "cell_type": "code",
      "metadata": {
        "colab": {
          "base_uri": "https://localhost:8080/",
          "height": 313
        },
        "id": "5neR1x8mbVBH",
        "outputId": "970ae260-1dd5-4add-d1e5-93cee33b896d"
      },
      "source": [
        "nwdata3.plot(x='year',y='total victims',kind='bar') #TOTAL VICTIMS OF 2016 AND 2018"
      ],
      "execution_count": null,
      "outputs": [
        {
          "output_type": "execute_result",
          "data": {
            "text/plain": [
              "<matplotlib.axes._subplots.AxesSubplot at 0x7fcb39708310>"
            ]
          },
          "metadata": {
            "tags": []
          },
          "execution_count": 20
        },
        {
          "output_type": "display_data",
          "data": {
            "image/png": "[encoded data removed]",
            "text/plain": [
              "<Figure size 432x288 with 1 Axes>"
            ]
          },
          "metadata": {
            "tags": [],
            "needs_background": "light"
          }
        }
      ]
    },
    {
      "cell_type": "code",
      "metadata": {
        "colab": {
          "base_uri": "https://localhost:8080/",
          "height": 420
        },
        "id": "xx41WzEJewt8",
        "outputId": "c40b7631-01c9-4e5e-b84f-26c1c3ad59b2"
      },
      "source": [
        "new1=new.loc[new['total victims']>2000] #states with total victims greater than 2000 from total victims of 2016 and 2018\n",
        "new1"
      ],
      "execution_count": null,
      "outputs": [
        {
          "output_type": "execute_result",
          "data": {
            "text/html": [
              "<div>\n",
              "<style scoped>\n",
              "    .dataframe tbody tr th:only-of-type {\n",
              "        vertical-align: middle;\n",
              "    }\n",
              "\n",
              "    .dataframe tbody tr th {\n",
              "        vertical-align: top;\n",
              "    }\n",
              "\n",
              "    .dataframe thead th {\n",
              "        text-align: right;\n",
              "    }\n",
              "</style>\n",
              "<table border=\"1\" class=\"dataframe\">\n",
              "  <thead>\n",
              "    <tr style=\"text-align: right;\">\n",
              "      <th></th>\n",
              "      <th>states/ut</th>\n",
              "      <th>total victims</th>\n",
              "      <th>case reported</th>\n",
              "      <th>case not reported</th>\n",
              "      <th>total child victims</th>\n",
              "      <th>total women victims</th>\n",
              "    </tr>\n",
              "  </thead>\n",
              "  <tbody>\n",
              "    <tr>\n",
              "      <th>2</th>\n",
              "      <td>Assam</td>\n",
              "      <td>3815</td>\n",
              "      <td>3420</td>\n",
              "      <td>395</td>\n",
              "      <td>189</td>\n",
              "      <td>3626</td>\n",
              "    </tr>\n",
              "    <tr>\n",
              "      <th>4</th>\n",
              "      <td>Chhattisgarh</td>\n",
              "      <td>4027</td>\n",
              "      <td>3999</td>\n",
              "      <td>28</td>\n",
              "      <td>2353</td>\n",
              "      <td>1674</td>\n",
              "    </tr>\n",
              "    <tr>\n",
              "      <th>7</th>\n",
              "      <td>Haryana</td>\n",
              "      <td>2400</td>\n",
              "      <td>2395</td>\n",
              "      <td>5</td>\n",
              "      <td>139</td>\n",
              "      <td>2261</td>\n",
              "    </tr>\n",
              "    <tr>\n",
              "      <th>10</th>\n",
              "      <td>Jharkhand</td>\n",
              "      <td>2025</td>\n",
              "      <td>2004</td>\n",
              "      <td>21</td>\n",
              "      <td>153</td>\n",
              "      <td>1872</td>\n",
              "    </tr>\n",
              "    <tr>\n",
              "      <th>12</th>\n",
              "      <td>Kerala</td>\n",
              "      <td>4007</td>\n",
              "      <td>3948</td>\n",
              "      <td>59</td>\n",
              "      <td>2241</td>\n",
              "      <td>1766</td>\n",
              "    </tr>\n",
              "    <tr>\n",
              "      <th>13</th>\n",
              "      <td>Madhya Pradesh</td>\n",
              "      <td>11049</td>\n",
              "      <td>10995</td>\n",
              "      <td>54</td>\n",
              "      <td>5923</td>\n",
              "      <td>5126</td>\n",
              "    </tr>\n",
              "    <tr>\n",
              "      <th>14</th>\n",
              "      <td>Maharashtra</td>\n",
              "      <td>4094</td>\n",
              "      <td>4075</td>\n",
              "      <td>19</td>\n",
              "      <td>12</td>\n",
              "      <td>4082</td>\n",
              "    </tr>\n",
              "    <tr>\n",
              "      <th>19</th>\n",
              "      <td>Odisha</td>\n",
              "      <td>3005</td>\n",
              "      <td>2988</td>\n",
              "      <td>17</td>\n",
              "      <td>1334</td>\n",
              "      <td>1671</td>\n",
              "    </tr>\n",
              "    <tr>\n",
              "      <th>21</th>\n",
              "      <td>Rajasthan</td>\n",
              "      <td>7656</td>\n",
              "      <td>7640</td>\n",
              "      <td>16</td>\n",
              "      <td>1544</td>\n",
              "      <td>6112</td>\n",
              "    </tr>\n",
              "    <tr>\n",
              "      <th>26</th>\n",
              "      <td>Uttar Pradesh</td>\n",
              "      <td>8991</td>\n",
              "      <td>8192</td>\n",
              "      <td>799</td>\n",
              "      <td>2971</td>\n",
              "      <td>6020</td>\n",
              "    </tr>\n",
              "    <tr>\n",
              "      <th>28</th>\n",
              "      <td>West Bengal</td>\n",
              "      <td>2153</td>\n",
              "      <td>2153</td>\n",
              "      <td>0</td>\n",
              "      <td>4</td>\n",
              "      <td>2149</td>\n",
              "    </tr>\n",
              "    <tr>\n",
              "      <th>33</th>\n",
              "      <td>Delhi UT</td>\n",
              "      <td>2448</td>\n",
              "      <td>2444</td>\n",
              "      <td>4</td>\n",
              "      <td>0</td>\n",
              "      <td>2448</td>\n",
              "    </tr>\n",
              "  </tbody>\n",
              "</table>\n",
              "</div>"
            ],
            "text/plain": [
              "         states/ut  total victims  ...  total child victims  total women victims\n",
              "2            Assam           3815  ...                  189                 3626\n",
              "4     Chhattisgarh           4027  ...                 2353                 1674\n",
              "7          Haryana           2400  ...                  139                 2261\n",
              "10       Jharkhand           2025  ...                  153                 1872\n",
              "12          Kerala           4007  ...                 2241                 1766\n",
              "13  Madhya Pradesh          11049  ...                 5923                 5126\n",
              "14     Maharashtra           4094  ...                   12                 4082\n",
              "19          Odisha           3005  ...                 1334                 1671\n",
              "21       Rajasthan           7656  ...                 1544                 6112\n",
              "26   Uttar Pradesh           8991  ...                 2971                 6020\n",
              "28     West Bengal           2153  ...                    4                 2149\n",
              "33        Delhi UT           2448  ...                    0                 2448\n",
              "\n",
              "[12 rows x 6 columns]"
            ]
          },
          "metadata": {
            "tags": []
          },
          "execution_count": 18
        }
      ]
    },
    {
      "cell_type": "code",
      "metadata": {
        "colab": {
          "base_uri": "https://localhost:8080/",
          "height": 370
        },
        "id": "k5_IMlAzb-Lc",
        "outputId": "6718a6a3-c7f3-4166-ee9f-70a58d50936c"
      },
      "source": [
        "new1.plot(x='states/ut',y='total victims',kind='bar')"
      ],
      "execution_count": null,
      "outputs": [
        {
          "output_type": "execute_result",
          "data": {
            "text/plain": [
              "<matplotlib.axes._subplots.AxesSubplot at 0x7fcb397b5450>"
            ]
          },
          "metadata": {
            "tags": []
          },
          "execution_count": 19
        },
        {
          "output_type": "display_data",
          "data": {
            "image/png": "[encoded data removed]",
            "text/plain": [
              "<Figure size 432x288 with 1 Axes>"
            ]
          },
          "metadata": {
            "tags": [],
            "needs_background": "light"
          }
        }
      ]
    }
  ]
}